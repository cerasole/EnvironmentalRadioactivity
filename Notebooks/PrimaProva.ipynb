{
  "nbformat": 4,
  "nbformat_minor": 0,
  "metadata": {
    "colab": {
      "provenance": [],
      "authorship_tag": "ABX9TyMa4VN29gtBnSKdCPIOd283",
      "include_colab_link": true
    },
    "kernelspec": {
      "name": "python3",
      "display_name": "Python 3"
    },
    "language_info": {
      "name": "python"
    }
  },
  "cells": [
    {
      "cell_type": "markdown",
      "metadata": {
        "id": "view-in-github",
        "colab_type": "text"
      },
      "source": [
        "<a href=\"https://colab.research.google.com/github/cerasole/EnvironmentalRadioactivity/blob/main/Notebooks/PrimaProva.ipynb\" target=\"_parent\"><img src=\"https://colab.research.google.com/assets/colab-badge.svg\" alt=\"Open In Colab\"/></a>"
      ]
    },
    {
      "cell_type": "code",
      "execution_count": 1,
      "metadata": {
        "id": "p_RVFsXa5Rwl"
      },
      "outputs": [],
      "source": [
        "import numpy as np\n",
        "import matplotlib.pyplot as plt"
      ]
    },
    {
      "cell_type": "code",
      "source": [
        "import glob\n",
        "glob.glob(\"*\")"
      ],
      "metadata": {
        "id": "XdL0sN4czI2i",
        "colab": {
          "base_uri": "https://localhost:8080/"
        },
        "outputId": "0dcd3df4-bfc0-4c80-fbb3-6ee3e8cc6e47"
      },
      "execution_count": 2,
      "outputs": [
        {
          "output_type": "execute_result",
          "data": {
            "text/plain": [
              "['sample_data']"
            ]
          },
          "metadata": {},
          "execution_count": 2
        }
      ]
    },
    {
      "cell_type": "code",
      "source": [
        "glob.glob(\"sample_data/*\")"
      ],
      "metadata": {
        "colab": {
          "base_uri": "https://localhost:8080/"
        },
        "id": "bf2iVa6V7WP_",
        "outputId": "30ca93ac-ff33-437e-a681-4289b455ba9a"
      },
      "execution_count": 3,
      "outputs": [
        {
          "output_type": "execute_result",
          "data": {
            "text/plain": [
              "['sample_data/README.md',\n",
              " 'sample_data/anscombe.json',\n",
              " 'sample_data/california_housing_train.csv',\n",
              " 'sample_data/california_housing_test.csv',\n",
              " 'sample_data/mnist_train_small.csv',\n",
              " 'sample_data/mnist_test.csv']"
            ]
          },
          "metadata": {},
          "execution_count": 3
        }
      ]
    },
    {
      "cell_type": "code",
      "source": [
        "glob.glob(\"sample_data/*.csv\")"
      ],
      "metadata": {
        "colab": {
          "base_uri": "https://localhost:8080/"
        },
        "id": "z7i85Fuy7Ycq",
        "outputId": "5c19a2ef-5912-466b-8b28-0d505b1bfb6e"
      },
      "execution_count": 4,
      "outputs": [
        {
          "output_type": "execute_result",
          "data": {
            "text/plain": [
              "['sample_data/california_housing_train.csv',\n",
              " 'sample_data/california_housing_test.csv',\n",
              " 'sample_data/mnist_train_small.csv',\n",
              " 'sample_data/mnist_test.csv']"
            ]
          },
          "metadata": {},
          "execution_count": 4
        }
      ]
    },
    {
      "cell_type": "code",
      "source": [
        "!wget https://raw.githubusercontent.com/cerasole/EnvironmentalRadioactivity/main/Data/GammaRAD5_ExampleFile.txt"
      ],
      "metadata": {
        "colab": {
          "base_uri": "https://localhost:8080/"
        },
        "id": "5Uyvd614CvuU",
        "outputId": "16bddf91-73b1-4713-e912-b88092aa7fc8"
      },
      "execution_count": 5,
      "outputs": [
        {
          "output_type": "stream",
          "name": "stdout",
          "text": [
            "--2024-12-02 20:25:52--  https://raw.githubusercontent.com/cerasole/EnvironmentalRadioactivity/main/Data/GammaRAD5_ExampleFile.txt\n",
            "Resolving raw.githubusercontent.com (raw.githubusercontent.com)... 185.199.108.133, 185.199.109.133, 185.199.110.133, ...\n",
            "Connecting to raw.githubusercontent.com (raw.githubusercontent.com)|185.199.108.133|:443... connected.\n",
            "HTTP request sent, awaiting response... 200 OK\n",
            "Length: 62780 (61K) [text/plain]\n",
            "Saving to: ‘GammaRAD5_ExampleFile.txt’\n",
            "\n",
            "GammaRAD5_ExampleFi 100%[===================>]  61.31K  --.-KB/s    in 0.03s   \n",
            "\n",
            "2024-12-02 20:25:52 (2.09 MB/s) - ‘GammaRAD5_ExampleFile.txt’ saved [62780/62780]\n",
            "\n"
          ]
        }
      ]
    },
    {
      "cell_type": "code",
      "source": [
        "glob.glob(\"*\")"
      ],
      "metadata": {
        "colab": {
          "base_uri": "https://localhost:8080/"
        },
        "id": "7nPNiUKCDO2R",
        "outputId": "a351a285-d116-4220-99a4-ac1b79d7628d"
      },
      "execution_count": 6,
      "outputs": [
        {
          "output_type": "execute_result",
          "data": {
            "text/plain": [
              "['GammaRAD5_ExampleFile.txt', 'sample_data']"
            ]
          },
          "metadata": {},
          "execution_count": 6
        }
      ]
    },
    {
      "cell_type": "code",
      "source": [
        "filename = \"GammaRAD5_ExampleFile.txt\"\n",
        "adc, counts = np.loadtxt(filename, skiprows = 5, unpack = True)"
      ],
      "metadata": {
        "id": "0xgi-TKSEgd3"
      },
      "execution_count": 10,
      "outputs": []
    },
    {
      "cell_type": "code",
      "source": [
        "adc"
      ],
      "metadata": {
        "colab": {
          "base_uri": "https://localhost:8080/"
        },
        "id": "25ediCJkLY3_",
        "outputId": "6bfa35f1-bb1e-4618-e713-c0adac70cd0e"
      },
      "execution_count": 11,
      "outputs": [
        {
          "output_type": "execute_result",
          "data": {
            "text/plain": [
              "array([0.000e+00, 1.000e+00, 2.000e+00, ..., 8.189e+03, 8.190e+03,\n",
              "       8.191e+03])"
            ]
          },
          "metadata": {},
          "execution_count": 11
        }
      ]
    },
    {
      "cell_type": "code",
      "source": [
        "counts"
      ],
      "metadata": {
        "colab": {
          "base_uri": "https://localhost:8080/"
        },
        "id": "gqg4y6yCLcJN",
        "outputId": "dafc7f28-603b-4398-a9ac-0a3e0074c331"
      },
      "execution_count": 12,
      "outputs": [
        {
          "output_type": "execute_result",
          "data": {
            "text/plain": [
              "array([0., 0., 0., ..., 0., 0., 0.])"
            ]
          },
          "metadata": {},
          "execution_count": 12
        }
      ]
    },
    {
      "cell_type": "code",
      "source": [
        "len(adc), len(counts)"
      ],
      "metadata": {
        "colab": {
          "base_uri": "https://localhost:8080/"
        },
        "id": "N-09BEClLebh",
        "outputId": "88b1defe-9b85-4975-cc38-d2221b68bb6a"
      },
      "execution_count": 13,
      "outputs": [
        {
          "output_type": "execute_result",
          "data": {
            "text/plain": [
              "(8192, 8192)"
            ]
          },
          "metadata": {},
          "execution_count": 13
        }
      ]
    },
    {
      "cell_type": "code",
      "source": [
        "esempio_lista = [1, 2, 3, 4, 5]\n",
        "esempio_vettore_numpy = np.array([1, 2, 3, 4, 5])"
      ],
      "metadata": {
        "id": "ylBBCtWtMvrP"
      },
      "execution_count": 14,
      "outputs": []
    },
    {
      "cell_type": "code",
      "source": [
        "esempio_lista + esempio_lista"
      ],
      "metadata": {
        "colab": {
          "base_uri": "https://localhost:8080/"
        },
        "id": "0Bf8eEhbM8UP",
        "outputId": "ffb7337a-b487-4746-f82e-f854f5c8449b"
      },
      "execution_count": 15,
      "outputs": [
        {
          "output_type": "execute_result",
          "data": {
            "text/plain": [
              "[1, 2, 3, 4, 5, 1, 2, 3, 4, 5]"
            ]
          },
          "metadata": {},
          "execution_count": 15
        }
      ]
    },
    {
      "cell_type": "code",
      "source": [
        "esempio_vettore_numpy + esempio_vettore_numpy"
      ],
      "metadata": {
        "colab": {
          "base_uri": "https://localhost:8080/"
        },
        "id": "Tc255JE7M-QB",
        "outputId": "0e496b71-da05-4acd-8c67-68d92e051e5c"
      },
      "execution_count": 16,
      "outputs": [
        {
          "output_type": "execute_result",
          "data": {
            "text/plain": [
              "array([ 2,  4,  6,  8, 10])"
            ]
          },
          "metadata": {},
          "execution_count": 16
        }
      ]
    },
    {
      "cell_type": "code",
      "source": [
        "3*esempio_vettore_numpy**2"
      ],
      "metadata": {
        "colab": {
          "base_uri": "https://localhost:8080/"
        },
        "id": "Fhs89TjuNB-Z",
        "outputId": "dc0d533c-0cee-40ed-9825-cea7db5604ae"
      },
      "execution_count": 17,
      "outputs": [
        {
          "output_type": "execute_result",
          "data": {
            "text/plain": [
              "array([ 3, 12, 27, 48, 75])"
            ]
          },
          "metadata": {},
          "execution_count": 17
        }
      ]
    },
    {
      "cell_type": "code",
      "source": [
        "p0, p1 = 526, 2.35\n",
        "energy = (adc - p0) / p1"
      ],
      "metadata": {
        "id": "2orNi18kOcfP"
      },
      "execution_count": 26,
      "outputs": []
    },
    {
      "cell_type": "code",
      "source": [
        "np.min(energy), np.max(energy)"
      ],
      "metadata": {
        "colab": {
          "base_uri": "https://localhost:8080/"
        },
        "id": "i6NkTV78OnEh",
        "outputId": "59a11a6d-1115-4846-db27-88e3030b24c6"
      },
      "execution_count": 19,
      "outputs": [
        {
          "output_type": "execute_result",
          "data": {
            "text/plain": [
              "(-239.09090909090907, 3484.090909090909)"
            ]
          },
          "metadata": {},
          "execution_count": 19
        }
      ]
    },
    {
      "cell_type": "code",
      "source": [
        "np.sum(counts)"
      ],
      "metadata": {
        "colab": {
          "base_uri": "https://localhost:8080/"
        },
        "id": "zB-POvh3PNfi",
        "outputId": "e1a1293e-27c7-4d0c-a0ed-888deeeda875"
      },
      "execution_count": 20,
      "outputs": [
        {
          "output_type": "execute_result",
          "data": {
            "text/plain": [
              "1222845.0"
            ]
          },
          "metadata": {},
          "execution_count": 20
        }
      ]
    },
    {
      "cell_type": "code",
      "source": [
        "plt.rc(\"font\", size = 16)\n",
        "\n",
        "fig, ax = plt.subplots(figsize = (8, 6))\n",
        "ax.errorbar(energy, counts, yerr = np.sqrt(counts),\n",
        "            linestyle = \"None\", marker = \"o\", markersize = 2,\n",
        "            label = \"Example file\", color = \"tab:blue\")\n",
        "ax.set_xlabel(\"Energy (keV)\")\n",
        "ax.set_ylabel(\"Counts\")\n",
        "ax.set_xlim(left = -100, right = 2800)\n",
        "ax.grid()\n",
        "ax.set_yscale(\"log\")\n",
        "ax.legend()\n",
        "plt.show()"
      ],
      "metadata": {
        "colab": {
          "base_uri": "https://localhost:8080/",
          "height": 554
        },
        "id": "-FQmcl-MPgVY",
        "outputId": "e3772977-ce74-4c78-ce15-077eb2eaefb9"
      },
      "execution_count": 29,
      "outputs": [
        {
          "output_type": "display_data",
          "data": {
            "text/plain": [
              "<Figure size 800x600 with 1 Axes>"
            ],
            "image/png": "[encoded data removed]"
          },
          "metadata": {}
        }
      ]
    },
    {
      "cell_type": "code",
      "source": [
        "fig, ax = plt.subplots(figsize = (8, 6))\n",
        "ax.errorbar(energy, counts, yerr = np.sqrt(counts),\n",
        "            linestyle = \"None\", marker = \"o\", markersize = 2,\n",
        "            label = \"Example file\", color = \"tab:blue\")\n",
        "ax.set_xlabel(\"Energy (keV)\")\n",
        "ax.set_ylabel(\"Counts\")\n",
        "ax.set_xlim(left = -10, right = 40)   ### Faccio zoom del piedistallo\n",
        "ax.axvline(\n",
        "    3,\n",
        "    linestyle = \"dotted\", color = \"black\",\n",
        "    label = \"Pedestal upper limit $\\sim 3$ keV\"\n",
        ")\n",
        "ax.grid()\n",
        "ax.set_yscale(\"log\")\n",
        "ax.legend()\n",
        "plt.show()"
      ],
      "metadata": {
        "colab": {
          "base_uri": "https://localhost:8080/",
          "height": 554
        },
        "id": "NSCV4Nv5S3UM",
        "outputId": "bf8b757c-614c-4fbe-9568-853f63200232"
      },
      "execution_count": 35,
      "outputs": [
        {
          "output_type": "display_data",
          "data": {
            "text/plain": [
              "<Figure size 800x600 with 1 Axes>"
            ],
            "image/png": "[encoded data removed]"
          },
          "metadata": {}
        }
      ]
    },
    {
      "cell_type": "code",
      "source": [
        "mask = energy > 3   ### Questa è una maschera in Python\n",
        "mask"
      ],
      "metadata": {
        "colab": {
          "base_uri": "https://localhost:8080/"
        },
        "id": "KRJG1PGoUK9L",
        "outputId": "810c54fa-8924-4086-9539-1c556e454f02"
      },
      "execution_count": 40,
      "outputs": [
        {
          "output_type": "execute_result",
          "data": {
            "text/plain": [
              "array([False, False, False, ...,  True,  True,  True])"
            ]
          },
          "metadata": {},
          "execution_count": 40
        }
      ]
    },
    {
      "cell_type": "code",
      "source": [
        "len(counts), len(counts[mask])\n"
      ],
      "metadata": {
        "colab": {
          "base_uri": "https://localhost:8080/"
        },
        "id": "K1NqzvVzUR-Y",
        "outputId": "053c9e07-da0f-4607-a52e-dd95ef58cc7e"
      },
      "execution_count": 41,
      "outputs": [
        {
          "output_type": "execute_result",
          "data": {
            "text/plain": [
              "(8192, 7658)"
            ]
          },
          "metadata": {},
          "execution_count": 41
        }
      ]
    },
    {
      "cell_type": "code",
      "source": [
        "np.sum(counts[mask])   ### Eventi con energie maggiori del piedistallo"
      ],
      "metadata": {
        "colab": {
          "base_uri": "https://localhost:8080/"
        },
        "id": "-8Pvx4a2UWGY",
        "outputId": "ade303ed-82ba-4b75-c32e-2c9989747989"
      },
      "execution_count": 42,
      "outputs": [
        {
          "output_type": "execute_result",
          "data": {
            "text/plain": [
              "1112545.0"
            ]
          },
          "metadata": {},
          "execution_count": 42
        }
      ]
    },
    {
      "cell_type": "code",
      "source": [
        "np.sum(counts) - np.sum(counts[mask])   ### Eventi nel piedistallo"
      ],
      "metadata": {
        "colab": {
          "base_uri": "https://localhost:8080/"
        },
        "id": "7_GuE9y-UkWx",
        "outputId": "9b3d6272-dcd8-4d90-e9e8-17c8a04bb150"
      },
      "execution_count": 43,
      "outputs": [
        {
          "output_type": "execute_result",
          "data": {
            "text/plain": [
              "110300.0"
            ]
          },
          "metadata": {},
          "execution_count": 43
        }
      ]
    },
    {
      "cell_type": "code",
      "source": [
        "(np.sum(counts) - np.sum(counts[mask])) / np.sum(counts[mask]) * 100"
      ],
      "metadata": {
        "colab": {
          "base_uri": "https://localhost:8080/"
        },
        "id": "i0tGZGq0VEDN",
        "outputId": "65cbe631-5b00-4515-f79b-377fb0ee9a38"
      },
      "execution_count": 45,
      "outputs": [
        {
          "output_type": "execute_result",
          "data": {
            "text/plain": [
              "9.914205717521538"
            ]
          },
          "metadata": {},
          "execution_count": 45
        }
      ]
    },
    {
      "cell_type": "markdown",
      "source": [],
      "metadata": {
        "id": "qLkq49oQVLmz"
      }
    }
  ]
}