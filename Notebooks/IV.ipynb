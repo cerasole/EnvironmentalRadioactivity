{
  "nbformat": 4,
  "nbformat_minor": 0,
  "metadata": {
    "colab": {
      "provenance": [],
      "authorship_tag": "ABX9TyNn/j9sEwXBrVhX1A7lRudX",
      "include_colab_link": true
    },
    "kernelspec": {
      "name": "python3",
      "display_name": "Python 3"
    },
    "language_info": {
      "name": "python"
    }
  },
  "cells": [
    {
      "cell_type": "markdown",
      "metadata": {
        "id": "view-in-github",
        "colab_type": "text"
      },
      "source": [
        "<a href=\"https://colab.research.google.com/github/cerasole/EnvironmentalRadioactivity/blob/main/Notebooks/IV.ipynb\" target=\"_parent\"><img src=\"https://colab.research.google.com/assets/colab-badge.svg\" alt=\"Open In Colab\"/></a>"
      ]
    },
    {
      "cell_type": "markdown",
      "source": [
        "# Analisi della curva IV di una resistenza\n",
        "\n",
        "In questo Colab, facciamo una analisi base dei dati di intensità di corrente che attraversa una resistenza al variare della differenza di potenziale ai capi della resistenza stessa.\n",
        "\n",
        "In primis, scarichiamo ed installiamo il modulo iminuit che ci servirà per fare i fit ed ottenere la stima del valore della resistenza."
      ],
      "metadata": {
        "id": "0qAD47wYIll7"
      }
    },
    {
      "cell_type": "code",
      "source": [
        "!pip install iminuit"
      ],
      "metadata": {
        "colab": {
          "base_uri": "https://localhost:8080/"
        },
        "id": "hfILwl6_xNIa",
        "outputId": "afdfd59c-2a74-41dd-ac8d-774cdda0f612"
      },
      "execution_count": 1,
      "outputs": [
        {
          "output_type": "stream",
          "name": "stdout",
          "text": [
            "Collecting iminuit\n",
            "  Downloading iminuit-2.30.1-cp311-cp311-manylinux_2_17_x86_64.manylinux2014_x86_64.whl.metadata (12 kB)\n",
            "Requirement already satisfied: numpy>=1.21 in /usr/local/lib/python3.11/dist-packages (from iminuit) (1.26.4)\n",
            "Downloading iminuit-2.30.1-cp311-cp311-manylinux_2_17_x86_64.manylinux2014_x86_64.whl (440 kB)\n",
            "\u001b[2K   \u001b[90m━━━━━━━━━━━━━━━━━━━━━━━━━━━━━━━━━━━━━━━━\u001b[0m \u001b[32m440.8/440.8 kB\u001b[0m \u001b[31m5.8 MB/s\u001b[0m eta \u001b[36m0:00:00\u001b[0m\n",
            "\u001b[?25hInstalling collected packages: iminuit\n",
            "Successfully installed iminuit-2.30.1\n"
          ]
        }
      ]
    },
    {
      "cell_type": "markdown",
      "source": [
        "Importiamo i moduli Python necessari e settiamo uno stile grafico con dimensione del font pari a 16."
      ],
      "metadata": {
        "id": "_fbDyD3IJZo-"
      }
    },
    {
      "cell_type": "code",
      "execution_count": 24,
      "metadata": {
        "id": "fn-yJMc2uc41"
      },
      "outputs": [],
      "source": [
        "# Data handling\n",
        "import numpy as np\n",
        "\n",
        "# Graphics\n",
        "import matplotlib.pyplot as plt\n",
        "\n",
        "# Fit\n",
        "from iminuit import Minuit\n",
        "from iminuit.cost import LeastSquares\n",
        "\n",
        "# Style options\n",
        "from matplotlib.ticker import FuncFormatter\n",
        "plt.rc(\"font\", size = 16)"
      ]
    },
    {
      "cell_type": "markdown",
      "source": [
        "Riportiamo qui le misure effettuate in degli oggetti chiamati \"array\", o \"vettori\", di numpy. Abbiamo cura di indicare anche le incertezze sui valori misurati, stimati in base alla sensibilità e tenendo a mente delle unità di misura!"
      ],
      "metadata": {
        "id": "v7d3JmK-JmKP"
      }
    },
    {
      "cell_type": "code",
      "source": [
        "V = np.array([\n",
        "    1.198, 1.482, 2.30, 3.56, 4.41, 7.17, 17.64\n",
        "])  # in Volt\n",
        "V_err = np.array([\n",
        "    0.001, 0.001, 0.01, 0.01, 0.01, 0.01, 0.01\n",
        "])  # in Volt\n",
        "I = np.array([\n",
        "    120e-6, 150e-6, 230e-6, 360e-6, 450e-6, 700e-6, 1700e-6\n",
        "])  # in Ampere\n",
        "I_err = np.array([\n",
        "    10e-6, 10e-6, 10e-6, 10e-6, 10e-6, 100e-6, 100e-6\n",
        "])  # in Ampere"
      ],
      "metadata": {
        "id": "y8jMYYBUutYK"
      },
      "execution_count": 21,
      "outputs": []
    },
    {
      "cell_type": "markdown",
      "source": [
        "Facciamo un primo grafico della curva V vs I."
      ],
      "metadata": {
        "id": "NrE9VH4VLVV3"
      }
    },
    {
      "cell_type": "code",
      "source": [
        "fig, ax = plt.subplots(figsize = (8, 6))\n",
        "ax.errorbar(x = I, y = V, xerr = I_err, yerr = V_err, ls = \"None\", marker = \"o\", markersize = 6)\n",
        "ax.set_xlabel(\"Current [A]\")\n",
        "ax.set_ylabel(\"Voltage [V]\")\n",
        "ax.set_xlim(left = 0, right = 0.002)\n",
        "ax.set_xticks([0., 0.00050, 0.00100, 0.00150, 0.00200])\n",
        "ax.set_yticks(np.arange(0, 20, 2))\n",
        "ax.grid()"
      ],
      "metadata": {
        "colab": {
          "base_uri": "https://localhost:8080/",
          "height": 554
        },
        "id": "meqUGNFLvNZl",
        "outputId": "f58c890c-4be4-49f5-acdf-fb393d956c55"
      },
      "execution_count": 50,
      "outputs": [
        {
          "output_type": "display_data",
          "data": {
            "text/plain": [
              "<Figure size 800x600 with 1 Axes>"
            ],
            "image/png": "[encoded data removed]"
          },
          "metadata": {}
        }
      ]
    },
    {
      "cell_type": "markdown",
      "source": [
        "Chiaramente, i primi 5 punti sono presi con un fondoscala dell'amperometro, mentre i restanti 2 sono presi con un altro fondoscala, e pertanto hanno errori maggiori rispetto alle 5 misure di corrente al di sono di 1 mA.\n",
        "\n",
        "Conviene fare uno zoom sui primi 5 punti a valori di corrente al di sotto di 1 mA."
      ],
      "metadata": {
        "id": "bZPh3P0gMdtE"
      }
    },
    {
      "cell_type": "code",
      "source": [
        "fig, ax = plt.subplots(figsize = (8, 6))\n",
        "ax.errorbar(x = I, y = V, xerr = I_err, yerr = V_err, ls = \"None\", marker = \"o\", markersize = 6)\n",
        "ax.set_xlabel(\"Current [A]\")\n",
        "ax.set_ylabel(\"Voltage [V]\")\n",
        "ax.set_xlim(left = 0, right = 0.0006)\n",
        "ax.set_ylim(bottom = 0., top = 5)\n",
        "ax.set_yticks(np.arange(0, 6, 1))\n",
        "ax.grid()"
      ],
      "metadata": {
        "id": "MOO0g-Z9LYMt",
        "outputId": "0545cd7b-3764-4646-bb30-4f1ac412c5cf",
        "colab": {
          "base_uri": "https://localhost:8080/",
          "height": 562
        }
      },
      "execution_count": 52,
      "outputs": [
        {
          "output_type": "display_data",
          "data": {
            "text/plain": [
              "<Figure size 800x600 with 1 Axes>"
            ],
            "image/png": "[encoded data removed]"
          },
          "metadata": {}
        }
      ]
    },
    {
      "cell_type": "markdown",
      "source": [
        "Risulta evidente che gli errori più importanti sono quelli sulla corrente!\n",
        "\n",
        "Dunque, a causa dell'algoritmo di fit che useremo, conviene fare dei grafici in cui sull'asse delle y vi sia la grandezza con l'incertezza maggiore, mentre sull'asse x ci sia la grandezza con l'incertezza minore"
      ],
      "metadata": {
        "id": "UcknKHwINaWB"
      }
    },
    {
      "cell_type": "code",
      "source": [
        "fig, ax = plt.subplots(figsize = (8, 6))\n",
        "ax.errorbar(y = I, x = V, yerr = I_err, xerr = V_err, ls = \"None\", marker = \"o\", markersize = 6)\n",
        "ax.set_ylabel(\"Current [A]\")\n",
        "ax.set_xlabel(\"Voltage [V]\")\n",
        "ax.set_ylim(bottom = 0, top = 0.002)\n",
        "ax.set_yticks([0., 0.00050, 0.00100, 0.00150, 0.00200])\n",
        "ax.set_xticks(np.arange(0, 20, 2))\n",
        "ax.grid()"
      ],
      "metadata": {
        "id": "xOIure_mNv5C",
        "outputId": "55aa5b5c-948b-4ce0-b644-f0cfe89eb323",
        "colab": {
          "base_uri": "https://localhost:8080/",
          "height": 562
        }
      },
      "execution_count": 55,
      "outputs": [
        {
          "output_type": "display_data",
          "data": {
            "text/plain": [
              "<Figure size 800x600 with 1 Axes>"
            ],
            "image/png": "[encoded data removed]"
          },
          "metadata": {}
        }
      ]
    },
    {
      "cell_type": "markdown",
      "source": [
        "Ora dobbiamo definire la funzione di fit. Poichè noi sappiamo che $V=Ri$, $R$ deve essere il coefficiente ottenuto dal rapporto fra le tensioni $V$ e le correnti $i$.\n",
        "\n",
        "Posso usare la funzione di fit:\n",
        "\n",
        "$V = a + I / R$\n",
        "\n",
        "ossia una funzione lineare fra $V$ e $i$ con parametri della retta dati dall'ordinata all'origine $a$ e dal coefficiente angolare dato da $1/R$, in modo tale che il fit mi restituisca direttamente il valore di $R$."
      ],
      "metadata": {
        "id": "t2ykgWj8OBtk"
      }
    },
    {
      "cell_type": "code",
      "source": [
        "def linear(x, a, R):\n",
        "  return a + x/R\n",
        "\n",
        "lsq = LeastSquares(x=V, y=I, yerror=I_err, model = linear)\n",
        "m = Minuit(lsq, a=0, R=100)  # a=0 e R=100 sono le stime iniziali dei parametri\n",
        "m.migrad()\n",
        "m.hesse()"
      ],
      "metadata": {
        "colab": {
          "base_uri": "https://localhost:8080/",
          "height": 664
        },
        "id": "2HRrktuexZ5C",
        "outputId": "22d4a82a-9f78-41a7-fcda-6ca9547ebd32"
      },
      "execution_count": 56,
      "outputs": [
        {
          "output_type": "execute_result",
          "data": {
            "text/plain": [
              "┌─────────────────────────────────────────────────────────────────────────┐\n",
              "│                                Migrad                                   │\n",
              "├──────────────────────────────────┬──────────────────────────────────────┤\n",
              "│ FCN = 0.9909 (χ²/ndof = 0.2)     │              Nfcn = 202              │\n",
              "│ EDM = 0.000112 (Goal: 0.0002)    │                                      │\n",
              "├──────────────────────────────────┼──────────────────────────────────────┤\n",
              "│          Valid Minimum           │   Below EDM threshold (goal x 10)    │\n",
              "├──────────────────────────────────┼──────────────────────────────────────┤\n",
              "│      No parameters at limit      │           Below call limit           │\n",
              "├──────────────────────────────────┼──────────────────────────────────────┤\n",
              "│             Hesse ok             │         Covariance accurate          │\n",
              "└──────────────────────────────────┴──────────────────────────────────────┘\n",
              "┌───┬──────┬───────────┬───────────┬────────────┬────────────┬─────────┬─────────┬───────┐\n",
              "│   │ Name │   Value   │ Hesse Err │ Minos Err- │ Minos Err+ │ Limit-  │ Limit+  │ Fixed │\n",
              "├───┼──────┼───────────┼───────────┼────────────┼────────────┼─────────┼─────────┼───────┤\n",
              "│ 0 │ a    │   1e-6    │   9e-6    │            │            │         │         │       │\n",
              "│ 1 │ R    │  9.93e3   │  0.31e3   │            │            │         │         │       │\n",
              "└───┴──────┴───────────┴───────────┴────────────┴────────────┴─────────┴─────────┴───────┘\n",
              "┌───┬─────────────────────────────┐\n",
              "│   │             a             R │\n",
              "├───┼─────────────────────────────┤\n",
              "│ a │      8.92e-11 2.59580935e-3 │\n",
              "│ R │ 2.59580935e-3      9.73e+04 │\n",
              "└───┴─────────────────────────────┘"
            ],
            "text/html": [
              "<table>\n",
              "    <tr>\n",
              "        <th colspan=\"2\" style=\"text-align:center\" title=\"Minimizer\"> Migrad </th>\n",
              "    </tr>\n",
              "    <tr>\n",
              "        <td style=\"text-align:left\" title=\"Minimum value of function\"> FCN = 0.9909 (χ²/ndof = 0.2) </td>\n",
              "        <td style=\"text-align:center\" title=\"Total number of function and (optional) gradient evaluations\"> Nfcn = 202 </td>\n",
              "    </tr>\n",
              "    <tr>\n",
              "        <td style=\"text-align:left\" title=\"Estimated distance to minimum and goal\"> EDM = 0.000112 (Goal: 0.0002) </td>\n",
              "        <td style=\"text-align:center\" title=\"Total run time of algorithms\">  </td>\n",
              "    </tr>\n",
              "    <tr>\n",
              "        <td style=\"text-align:center;background-color:#92CCA6;color:black\"> Valid Minimum </td>\n",
              "        <td style=\"text-align:center;background-color:#92CCA6;color:black\"> Below EDM threshold (goal x 10) </td>\n",
              "    </tr>\n",
              "    <tr>\n",
              "        <td style=\"text-align:center;background-color:#92CCA6;color:black\"> No parameters at limit </td>\n",
              "        <td style=\"text-align:center;background-color:#92CCA6;color:black\"> Below call limit </td>\n",
              "    </tr>\n",
              "    <tr>\n",
              "        <td style=\"text-align:center;background-color:#92CCA6;color:black\"> Hesse ok </td>\n",
              "        <td style=\"text-align:center;background-color:#92CCA6;color:black\"> Covariance accurate </td>\n",
              "    </tr>\n",
              "</table><table>\n",
              "    <tr>\n",
              "        <td></td>\n",
              "        <th title=\"Variable name\"> Name </th>\n",
              "        <th title=\"Value of parameter\"> Value </th>\n",
              "        <th title=\"Hesse error\"> Hesse Error </th>\n",
              "        <th title=\"Minos lower error\"> Minos Error- </th>\n",
              "        <th title=\"Minos upper error\"> Minos Error+ </th>\n",
              "        <th title=\"Lower limit of the parameter\"> Limit- </th>\n",
              "        <th title=\"Upper limit of the parameter\"> Limit+ </th>\n",
              "        <th title=\"Is the parameter fixed in the fit\"> Fixed </th>\n",
              "    </tr>\n",
              "    <tr>\n",
              "        <th> 0 </th>\n",
              "        <td> a </td>\n",
              "        <td> 1e-6 </td>\n",
              "        <td> 9e-6 </td>\n",
              "        <td>  </td>\n",
              "        <td>  </td>\n",
              "        <td>  </td>\n",
              "        <td>  </td>\n",
              "        <td>  </td>\n",
              "    </tr>\n",
              "    <tr>\n",
              "        <th> 1 </th>\n",
              "        <td> R </td>\n",
              "        <td> 9.93e3 </td>\n",
              "        <td> 0.31e3 </td>\n",
              "        <td>  </td>\n",
              "        <td>  </td>\n",
              "        <td>  </td>\n",
              "        <td>  </td>\n",
              "        <td>  </td>\n",
              "    </tr>\n",
              "</table><table>\n",
              "    <tr>\n",
              "        <td></td>\n",
              "        <th> a </th>\n",
              "        <th> R </th>\n",
              "    </tr>\n",
              "    <tr>\n",
              "        <th> a </th>\n",
              "        <td> 8.92e-11 </td>\n",
              "        <td style=\"background-color:rgb(250,118,118);color:black\"> 2.59580935e-3 <strong>(0.881)</strong> </td>\n",
              "    </tr>\n",
              "    <tr>\n",
              "        <th> R </th>\n",
              "        <td style=\"background-color:rgb(250,118,118);color:black\"> 2.59580935e-3 <strong>(0.881)</strong> </td>\n",
              "        <td> 9.73e+04 </td>\n",
              "    </tr>\n",
              "</table><?xml version=\"1.0\" encoding=\"utf-8\" standalone=\"no\"?>\n",
              "<!DOCTYPE svg PUBLIC \"-//W3C//DTD SVG 1.1//EN\"\n",
              "  \"http://www.w3.org/Graphics/SVG/1.1/DTD/svg11.dtd\">\n",
              "<svg xmlns:xlink=\"http://www.w3.org/1999/xlink\" width=\"360pt\" height=\"288pt\" viewBox=\"0 0 360 288\" xmlns=\"http://www.w3.org/2000/svg\" version=\"1.1\">\n",
              " <metadata>\n",
              "  <rdf:RDF xmlns:dc=\"http://purl.org/dc/elements/1.1/\" xmlns:cc=\"http://creativecommons.org/ns#\" xmlns:rdf=\"http://www.w3.org/1999/02/22-rdf-syntax-ns#\">\n",
              "   <cc:Work>\n",
              "    <dc:type rdf:resource=\"http://purl.org/dc/dcmitype/StillImage\"/>\n",
              "    <dc:date>2025-02-27T07:08:28.375540</dc:date>\n",
              "    <dc:format>image/svg+xml</dc:format>\n",
              "    <dc:creator>\n",
              "     <cc:Agent>\n",
              "      <dc:title>Matplotlib v3.10.0, https://matplotlib.org/</dc:title>\n",
              "     </cc:Agent>\n",
              "    </dc:creator>\n",
              "   </cc:Work>\n",
              "  </rdf:RDF>\n",
              " </metadata>\n",
              " <defs>\n",
              "  <style type=\"text/css\">*{stroke-linejoin: round; stroke-linecap: butt}</style>\n",
              " </defs>\n",
              " <g id=\"figure_1\">\n",
              "  <g id=\"patch_1\">\n",
              "   <path d=\"M 0 288 \n",
              "L 360 288 \n",
              "L 360 0 \n",
              "L 0 0 \n",
              "z\n",
              "\" style=\"fill: #ffffff\"/>\n",
              "  </g>\n",
              "  <g id=\"axes_1\">\n",
              "   <g id=\"patch_2\">\n",
              "    <path d=\"M 76.16524 262.51476 \n",
              "L 356.99976 262.51476 \n",
              "L 356.99976 3.00024 \n",
              "L 76.16524 3.00024 \n",
              "z\n",
              "\" style=\"fill: #ffffff\"/>\n",
              "   </g>\n",
              "   <g id=\"matplotlib.axis_1\">\n",
              "    <g id=\"xtick_1\">\n",
              "     <g id=\"line2d_1\">\n",
              "      <defs>\n",
              "       <path id=\"m7f25c7701b\" d=\"M 0 0 \n",
              "L 0 3.5 \n",
              "\" style=\"stroke: #000000; stroke-width: 0.8\"/>\n",
              "      </defs>\n",
              "      <g>\n",
              "       <use xlink:href=\"#m7f25c7701b\" x=\"147.966221\" y=\"262.51476\" style=\"stroke: #000000; stroke-width: 0.8\"/>\n",
              "      </g>\n",
              "     </g>\n",
              "     <g id=\"text_1\">\n",
              "      <!-- 5 -->\n",
              "      <g transform=\"translate(142.876221 281.67226) scale(0.16 -0.16)\">\n",
              "       <defs>\n",
              "        <path id=\"DejaVuSans-35\" d=\"M 691 4666 \n",
              "L 3169 4666 \n",
              "L 3169 4134 \n",
              "L 1269 4134 \n",
              "L 1269 2991 \n",
              "Q 1406 3038 1543 3061 \n",
              "Q 1681 3084 1819 3084 \n",
              "Q 2600 3084 3056 2656 \n",
              "Q 3513 2228 3513 1497 \n",
              "Q 3513 744 3044 326 \n",
              "Q 2575 -91 1722 -91 \n",
              "Q 1428 -91 1123 -41 \n",
              "Q 819 9 494 109 \n",
              "L 494 744 \n",
              "Q 775 591 1075 516 \n",
              "Q 1375 441 1709 441 \n",
              "Q 2250 441 2565 725 \n",
              "Q 2881 1009 2881 1497 \n",
              "Q 2881 1984 2565 2268 \n",
              "Q 2250 2553 1709 2553 \n",
              "Q 1456 2553 1204 2497 \n",
              "Q 953 2441 691 2322 \n",
              "L 691 4666 \n",
              "z\n",
              "\" transform=\"scale(0.015625)\"/>\n",
              "       </defs>\n",
              "       <use xlink:href=\"#DejaVuSans-35\"/>\n",
              "      </g>\n",
              "     </g>\n",
              "    </g>\n",
              "    <g id=\"xtick_2\">\n",
              "     <g id=\"line2d_2\">\n",
              "      <g>\n",
              "       <use xlink:href=\"#m7f25c7701b\" x=\"225.604011\" y=\"262.51476\" style=\"stroke: #000000; stroke-width: 0.8\"/>\n",
              "      </g>\n",
              "     </g>\n",
              "     <g id=\"text_2\">\n",
              "      <!-- 10 -->\n",
              "      <g transform=\"translate(215.424011 281.67226) scale(0.16 -0.16)\">\n",
              "       <defs>\n",
              "        <path id=\"DejaVuSans-31\" d=\"M 794 531 \n",
              "L 1825 531 \n",
              "L 1825 4091 \n",
              "L 703 3866 \n",
              "L 703 4441 \n",
              "L 1819 4666 \n",
              "L 2450 4666 \n",
              "L 2450 531 \n",
              "L 3481 531 \n",
              "L 3481 0 \n",
              "L 794 0 \n",
              "L 794 531 \n",
              "z\n",
              "\" transform=\"scale(0.015625)\"/>\n",
              "        <path id=\"DejaVuSans-30\" d=\"M 2034 4250 \n",
              "Q 1547 4250 1301 3770 \n",
              "Q 1056 3291 1056 2328 \n",
              "Q 1056 1369 1301 889 \n",
              "Q 1547 409 2034 409 \n",
              "Q 2525 409 2770 889 \n",
              "Q 3016 1369 3016 2328 \n",
              "Q 3016 3291 2770 3770 \n",
              "Q 2525 4250 2034 4250 \n",
              "z\n",
              "M 2034 4750 \n",
              "Q 2819 4750 3233 4129 \n",
              "Q 3647 3509 3647 2328 \n",
              "Q 3647 1150 3233 529 \n",
              "Q 2819 -91 2034 -91 \n",
              "Q 1250 -91 836 529 \n",
              "Q 422 1150 422 2328 \n",
              "Q 422 3509 836 4129 \n",
              "Q 1250 4750 2034 4750 \n",
              "z\n",
              "\" transform=\"scale(0.015625)\"/>\n",
              "       </defs>\n",
              "       <use xlink:href=\"#DejaVuSans-31\"/>\n",
              "       <use xlink:href=\"#DejaVuSans-30\" transform=\"translate(63.623047 0)\"/>\n",
              "      </g>\n",
              "     </g>\n",
              "    </g>\n",
              "    <g id=\"xtick_3\">\n",
              "     <g id=\"line2d_3\">\n",
              "      <g>\n",
              "       <use xlink:href=\"#m7f25c7701b\" x=\"303.241801\" y=\"262.51476\" style=\"stroke: #000000; stroke-width: 0.8\"/>\n",
              "      </g>\n",
              "     </g>\n",
              "     <g id=\"text_3\">\n",
              "      <!-- 15 -->\n",
              "      <g transform=\"translate(293.061801 281.67226) scale(0.16 -0.16)\">\n",
              "       <use xlink:href=\"#DejaVuSans-31\"/>\n",
              "       <use xlink:href=\"#DejaVuSans-35\" transform=\"translate(63.623047 0)\"/>\n",
              "      </g>\n",
              "     </g>\n",
              "    </g>\n",
              "   </g>\n",
              "   <g id=\"matplotlib.axis_2\">\n",
              "    <g id=\"ytick_1\">\n",
              "     <g id=\"line2d_4\">\n",
              "      <defs>\n",
              "       <path id=\"md71708dfd8\" d=\"M 0 0 \n",
              "L -3.5 0 \n",
              "\" style=\"stroke: #000000; stroke-width: 0.8\"/>\n",
              "      </defs>\n",
              "      <g>\n",
              "       <use xlink:href=\"#md71708dfd8\" x=\"76.16524\" y=\"231.174787\" style=\"stroke: #000000; stroke-width: 0.8\"/>\n",
              "      </g>\n",
              "     </g>\n",
              "     <g id=\"text_4\">\n",
              "      <!-- 0.00025 -->\n",
              "      <g transform=\"translate(3.00024 237.253537) scale(0.16 -0.16)\">\n",
              "       <defs>\n",
              "        <path id=\"DejaVuSans-2e\" d=\"M 684 794 \n",
              "L 1344 794 \n",
              "L 1344 0 \n",
              "L 684 0 \n",
              "L 684 794 \n",
              "z\n",
              "\" transform=\"scale(0.015625)\"/>\n",
              "        <path id=\"DejaVuSans-32\" d=\"M 1228 531 \n",
              "L 3431 531 \n",
              "L 3431 0 \n",
              "L 469 0 \n",
              "L 469 531 \n",
              "Q 828 903 1448 1529 \n",
              "Q 2069 2156 2228 2338 \n",
              "Q 2531 2678 2651 2914 \n",
              "Q 2772 3150 2772 3378 \n",
              "Q 2772 3750 2511 3984 \n",
              "Q 2250 4219 1831 4219 \n",
              "Q 1534 4219 1204 4116 \n",
              "Q 875 4013 500 3803 \n",
              "L 500 4441 \n",
              "Q 881 4594 1212 4672 \n",
              "Q 1544 4750 1819 4750 \n",
              "Q 2544 4750 2975 4387 \n",
              "Q 3406 4025 3406 3419 \n",
              "Q 3406 3131 3298 2873 \n",
              "Q 3191 2616 2906 2266 \n",
              "Q 2828 2175 2409 1742 \n",
              "Q 1991 1309 1228 531 \n",
              "z\n",
              "\" transform=\"scale(0.015625)\"/>\n",
              "       </defs>\n",
              "       <use xlink:href=\"#DejaVuSans-30\"/>\n",
              "       <use xlink:href=\"#DejaVuSans-2e\" transform=\"translate(63.623047 0)\"/>\n",
              "       <use xlink:href=\"#DejaVuSans-30\" transform=\"translate(95.410156 0)\"/>\n",
              "       <use xlink:href=\"#DejaVuSans-30\" transform=\"translate(159.033203 0)\"/>\n",
              "       <use xlink:href=\"#DejaVuSans-30\" transform=\"translate(222.65625 0)\"/>\n",
              "       <use xlink:href=\"#DejaVuSans-32\" transform=\"translate(286.279297 0)\"/>\n",
              "       <use xlink:href=\"#DejaVuSans-35\" transform=\"translate(349.902344 0)\"/>\n",
              "      </g>\n",
              "     </g>\n",
              "    </g>\n",
              "    <g id=\"ytick_2\">\n",
              "     <g id=\"line2d_5\">\n",
              "      <g>\n",
              "       <use xlink:href=\"#md71708dfd8\" x=\"76.16524\" y=\"196.27504\" style=\"stroke: #000000; stroke-width: 0.8\"/>\n",
              "      </g>\n",
              "     </g>\n",
              "     <g id=\"text_5\">\n",
              "      <!-- 0.00050 -->\n",
              "      <g transform=\"translate(3.00024 202.35379) scale(0.16 -0.16)\">\n",
              "       <use xlink:href=\"#DejaVuSans-30\"/>\n",
              "       <use xlink:href=\"#DejaVuSans-2e\" transform=\"translate(63.623047 0)\"/>\n",
              "       <use xlink:href=\"#DejaVuSans-30\" transform=\"translate(95.410156 0)\"/>\n",
              "       <use xlink:href=\"#DejaVuSans-30\" transform=\"translate(159.033203 0)\"/>\n",
              "       <use xlink:href=\"#DejaVuSans-30\" transform=\"translate(222.65625 0)\"/>\n",
              "       <use xlink:href=\"#DejaVuSans-35\" transform=\"translate(286.279297 0)\"/>\n",
              "       <use xlink:href=\"#DejaVuSans-30\" transform=\"translate(349.902344 0)\"/>\n",
              "      </g>\n",
              "     </g>\n",
              "    </g>\n",
              "    <g id=\"ytick_3\">\n",
              "     <g id=\"line2d_6\">\n",
              "      <g>\n",
              "       <use xlink:href=\"#md71708dfd8\" x=\"76.16524\" y=\"161.375293\" style=\"stroke: #000000; stroke-width: 0.8\"/>\n",
              "      </g>\n",
              "     </g>\n",
              "     <g id=\"text_6\">\n",
              "      <!-- 0.00075 -->\n",
              "      <g transform=\"translate(3.00024 167.454043) scale(0.16 -0.16)\">\n",
              "       <defs>\n",
              "        <path id=\"DejaVuSans-37\" d=\"M 525 4666 \n",
              "L 3525 4666 \n",
              "L 3525 4397 \n",
              "L 1831 0 \n",
              "L 1172 0 \n",
              "L 2766 4134 \n",
              "L 525 4134 \n",
              "L 525 4666 \n",
              "z\n",
              "\" transform=\"scale(0.015625)\"/>\n",
              "       </defs>\n",
              "       <use xlink:href=\"#DejaVuSans-30\"/>\n",
              "       <use xlink:href=\"#DejaVuSans-2e\" transform=\"translate(63.623047 0)\"/>\n",
              "       <use xlink:href=\"#DejaVuSans-30\" transform=\"translate(95.410156 0)\"/>\n",
              "       <use xlink:href=\"#DejaVuSans-30\" transform=\"translate(159.033203 0)\"/>\n",
              "       <use xlink:href=\"#DejaVuSans-30\" transform=\"translate(222.65625 0)\"/>\n",
              "       <use xlink:href=\"#DejaVuSans-37\" transform=\"translate(286.279297 0)\"/>\n",
              "       <use xlink:href=\"#DejaVuSans-35\" transform=\"translate(349.902344 0)\"/>\n",
              "      </g>\n",
              "     </g>\n",
              "    </g>\n",
              "    <g id=\"ytick_4\">\n",
              "     <g id=\"line2d_7\">\n",
              "      <g>\n",
              "       <use xlink:href=\"#md71708dfd8\" x=\"76.16524\" y=\"126.475546\" style=\"stroke: #000000; stroke-width: 0.8\"/>\n",
              "      </g>\n",
              "     </g>\n",
              "     <g id=\"text_7\">\n",
              "      <!-- 0.00100 -->\n",
              "      <g transform=\"translate(3.00024 132.554296) scale(0.16 -0.16)\">\n",
              "       <use xlink:href=\"#DejaVuSans-30\"/>\n",
              "       <use xlink:href=\"#DejaVuSans-2e\" transform=\"translate(63.623047 0)\"/>\n",
              "       <use xlink:href=\"#DejaVuSans-30\" transform=\"translate(95.410156 0)\"/>\n",
              "       <use xlink:href=\"#DejaVuSans-30\" transform=\"translate(159.033203 0)\"/>\n",
              "       <use xlink:href=\"#DejaVuSans-31\" transform=\"translate(222.65625 0)\"/>\n",
              "       <use xlink:href=\"#DejaVuSans-30\" transform=\"translate(286.279297 0)\"/>\n",
              "       <use xlink:href=\"#DejaVuSans-30\" transform=\"translate(349.902344 0)\"/>\n",
              "      </g>\n",
              "     </g>\n",
              "    </g>\n",
              "    <g id=\"ytick_5\">\n",
              "     <g id=\"line2d_8\">\n",
              "      <g>\n",
              "       <use xlink:href=\"#md71708dfd8\" x=\"76.16524\" y=\"91.575798\" style=\"stroke: #000000; stroke-width: 0.8\"/>\n",
              "      </g>\n",
              "     </g>\n",
              "     <g id=\"text_8\">\n",
              "      <!-- 0.00125 -->\n",
              "      <g transform=\"translate(3.00024 97.654548) scale(0.16 -0.16)\">\n",
              "       <use xlink:href=\"#DejaVuSans-30\"/>\n",
              "       <use xlink:href=\"#DejaVuSans-2e\" transform=\"translate(63.623047 0)\"/>\n",
              "       <use xlink:href=\"#DejaVuSans-30\" transform=\"translate(95.410156 0)\"/>\n",
              "       <use xlink:href=\"#DejaVuSans-30\" transform=\"translate(159.033203 0)\"/>\n",
              "       <use xlink:href=\"#DejaVuSans-31\" transform=\"translate(222.65625 0)\"/>\n",
              "       <use xlink:href=\"#DejaVuSans-32\" transform=\"translate(286.279297 0)\"/>\n",
              "       <use xlink:href=\"#DejaVuSans-35\" transform=\"translate(349.902344 0)\"/>\n",
              "      </g>\n",
              "     </g>\n",
              "    </g>\n",
              "    <g id=\"ytick_6\">\n",
              "     <g id=\"line2d_9\">\n",
              "      <g>\n",
              "       <use xlink:href=\"#md71708dfd8\" x=\"76.16524\" y=\"56.676051\" style=\"stroke: #000000; stroke-width: 0.8\"/>\n",
              "      </g>\n",
              "     </g>\n",
              "     <g id=\"text_9\">\n",
              "      <!-- 0.00150 -->\n",
              "      <g transform=\"translate(3.00024 62.754801) scale(0.16 -0.16)\">\n",
              "       <use xlink:href=\"#DejaVuSans-30\"/>\n",
              "       <use xlink:href=\"#DejaVuSans-2e\" transform=\"translate(63.623047 0)\"/>\n",
              "       <use xlink:href=\"#DejaVuSans-30\" transform=\"translate(95.410156 0)\"/>\n",
              "       <use xlink:href=\"#DejaVuSans-30\" transform=\"translate(159.033203 0)\"/>\n",
              "       <use xlink:href=\"#DejaVuSans-31\" transform=\"translate(222.65625 0)\"/>\n",
              "       <use xlink:href=\"#DejaVuSans-35\" transform=\"translate(286.279297 0)\"/>\n",
              "       <use xlink:href=\"#DejaVuSans-30\" transform=\"translate(349.902344 0)\"/>\n",
              "      </g>\n",
              "     </g>\n",
              "    </g>\n",
              "    <g id=\"ytick_7\">\n",
              "     <g id=\"line2d_10\">\n",
              "      <g>\n",
              "       <use xlink:href=\"#md71708dfd8\" x=\"76.16524\" y=\"21.776304\" style=\"stroke: #000000; stroke-width: 0.8\"/>\n",
              "      </g>\n",
              "     </g>\n",
              "     <g id=\"text_10\">\n",
              "      <!-- 0.00175 -->\n",
              "      <g transform=\"translate(3.00024 27.855054) scale(0.16 -0.16)\">\n",
              "       <use xlink:href=\"#DejaVuSans-30\"/>\n",
              "       <use xlink:href=\"#DejaVuSans-2e\" transform=\"translate(63.623047 0)\"/>\n",
              "       <use xlink:href=\"#DejaVuSans-30\" transform=\"translate(95.410156 0)\"/>\n",
              "       <use xlink:href=\"#DejaVuSans-30\" transform=\"translate(159.033203 0)\"/>\n",
              "       <use xlink:href=\"#DejaVuSans-31\" transform=\"translate(222.65625 0)\"/>\n",
              "       <use xlink:href=\"#DejaVuSans-37\" transform=\"translate(286.279297 0)\"/>\n",
              "       <use xlink:href=\"#DejaVuSans-35\" transform=\"translate(349.902344 0)\"/>\n",
              "      </g>\n",
              "     </g>\n",
              "    </g>\n",
              "   </g>\n",
              "   <g id=\"LineCollection_1\">\n",
              "    <path d=\"M 88.930445 250.718645 \n",
              "L 88.930445 247.926666 \n",
              "\" clip-path=\"url(#p0a22a44460)\" style=\"fill: none; stroke: #000000; stroke-width: 1.5\"/>\n",
              "    <path d=\"M 93.340272 246.530676 \n",
              "L 93.340272 243.738696 \n",
              "\" clip-path=\"url(#p0a22a44460)\" style=\"fill: none; stroke: #000000; stroke-width: 1.5\"/>\n",
              "    <path d=\"M 106.041814 235.362757 \n",
              "L 106.041814 232.570777 \n",
              "\" clip-path=\"url(#p0a22a44460)\" style=\"fill: none; stroke: #000000; stroke-width: 1.5\"/>\n",
              "    <path d=\"M 125.606538 217.214888 \n",
              "L 125.606538 214.422908 \n",
              "\" clip-path=\"url(#p0a22a44460)\" style=\"fill: none; stroke: #000000; stroke-width: 1.5\"/>\n",
              "    <path d=\"M 138.804962 204.650979 \n",
              "L 138.804962 201.858999 \n",
              "\" clip-path=\"url(#p0a22a44460)\" style=\"fill: none; stroke: #000000; stroke-width: 1.5\"/>\n",
              "    <path d=\"M 181.661022 182.315141 \n",
              "L 181.661022 154.395343 \n",
              "\" clip-path=\"url(#p0a22a44460)\" style=\"fill: none; stroke: #000000; stroke-width: 1.5\"/>\n",
              "    <path d=\"M 344.234555 42.716152 \n",
              "L 344.234555 14.796355 \n",
              "\" clip-path=\"url(#p0a22a44460)\" style=\"fill: none; stroke: #000000; stroke-width: 1.5\"/>\n",
              "   </g>\n",
              "   <g id=\"line2d_11\">\n",
              "    <path d=\"M 88.930445 249.093882 \n",
              "L 95.648975 243.010185 \n",
              "L 102.367504 236.926488 \n",
              "L 109.086033 230.842791 \n",
              "L 115.804562 224.759094 \n",
              "L 122.523091 218.675397 \n",
              "L 129.241621 212.591699 \n",
              "L 135.96015 206.508002 \n",
              "L 142.678679 200.424305 \n",
              "L 149.397208 194.340608 \n",
              "L 156.115737 188.256911 \n",
              "L 162.834267 182.173214 \n",
              "L 169.552796 176.089516 \n",
              "L 176.271325 170.005819 \n",
              "L 182.989854 163.922122 \n",
              "L 189.708383 157.838425 \n",
              "L 196.426912 151.754728 \n",
              "L 203.145442 145.671031 \n",
              "L 209.863971 139.587334 \n",
              "L 216.5825 133.503636 \n",
              "L 223.301029 127.419939 \n",
              "L 230.019558 121.336242 \n",
              "L 236.738088 115.252545 \n",
              "L 243.456617 109.168848 \n",
              "L 250.175146 103.085151 \n",
              "L 256.893675 97.001453 \n",
              "L 263.612204 90.917756 \n",
              "L 270.330733 84.834059 \n",
              "L 277.049263 78.750362 \n",
              "L 283.767792 72.666665 \n",
              "L 290.486321 66.582968 \n",
              "L 297.20485 60.499271 \n",
              "L 303.923379 54.415573 \n",
              "L 310.641909 48.331876 \n",
              "L 317.360438 42.248179 \n",
              "L 324.078967 36.164482 \n",
              "L 330.797496 30.080785 \n",
              "L 337.516025 23.997088 \n",
              "L 344.234555 17.913391 \n",
              "\" clip-path=\"url(#p0a22a44460)\" style=\"fill: none; stroke: #1f77b4; stroke-width: 1.5; stroke-linecap: square\"/>\n",
              "   </g>\n",
              "   <g id=\"line2d_12\">\n",
              "    <defs>\n",
              "     <path id=\"m0fbe53abcc\" d=\"M 0 3 \n",
              "C 0.795609 3 1.55874 2.683901 2.12132 2.12132 \n",
              "C 2.683901 1.55874 3 0.795609 3 0 \n",
              "C 3 -0.795609 2.683901 -1.55874 2.12132 -2.12132 \n",
              "C 1.55874 -2.683901 0.795609 -3 0 -3 \n",
              "C -0.795609 -3 -1.55874 -2.683901 -2.12132 -2.12132 \n",
              "C -2.683901 -1.55874 -3 -0.795609 -3 0 \n",
              "C -3 0.795609 -2.683901 1.55874 -2.12132 2.12132 \n",
              "C -1.55874 2.683901 -0.795609 3 0 3 \n",
              "z\n",
              "\" style=\"stroke: #000000\"/>\n",
              "    </defs>\n",
              "    <g clip-path=\"url(#p0a22a44460)\">\n",
              "     <use xlink:href=\"#m0fbe53abcc\" x=\"88.930445\" y=\"249.322656\" style=\"stroke: #000000\"/>\n",
              "     <use xlink:href=\"#m0fbe53abcc\" x=\"93.340272\" y=\"245.134686\" style=\"stroke: #000000\"/>\n",
              "     <use xlink:href=\"#m0fbe53abcc\" x=\"106.041814\" y=\"233.966767\" style=\"stroke: #000000\"/>\n",
              "     <use xlink:href=\"#m0fbe53abcc\" x=\"125.606538\" y=\"215.818898\" style=\"stroke: #000000\"/>\n",
              "     <use xlink:href=\"#m0fbe53abcc\" x=\"138.804962\" y=\"203.254989\" style=\"stroke: #000000\"/>\n",
              "     <use xlink:href=\"#m0fbe53abcc\" x=\"181.661022\" y=\"168.355242\" style=\"stroke: #000000\"/>\n",
              "     <use xlink:href=\"#m0fbe53abcc\" x=\"344.234555\" y=\"28.756253\" style=\"stroke: #000000\"/>\n",
              "    </g>\n",
              "   </g>\n",
              "   <g id=\"patch_3\">\n",
              "    <path d=\"M 76.16524 262.51476 \n",
              "L 76.16524 3.00024 \n",
              "\" style=\"fill: none; stroke: #000000; stroke-width: 0.8; stroke-linejoin: miter; stroke-linecap: square\"/>\n",
              "   </g>\n",
              "   <g id=\"patch_4\">\n",
              "    <path d=\"M 356.99976 262.51476 \n",
              "L 356.99976 3.00024 \n",
              "\" style=\"fill: none; stroke: #000000; stroke-width: 0.8; stroke-linejoin: miter; stroke-linecap: square\"/>\n",
              "   </g>\n",
              "   <g id=\"patch_5\">\n",
              "    <path d=\"M 76.16524 262.51476 \n",
              "L 356.99976 262.51476 \n",
              "\" style=\"fill: none; stroke: #000000; stroke-width: 0.8; stroke-linejoin: miter; stroke-linecap: square\"/>\n",
              "   </g>\n",
              "   <g id=\"patch_6\">\n",
              "    <path d=\"M 76.16524 3.00024 \n",
              "L 356.99976 3.00024 \n",
              "\" style=\"fill: none; stroke: #000000; stroke-width: 0.8; stroke-linejoin: miter; stroke-linecap: square\"/>\n",
              "   </g>\n",
              "  </g>\n",
              " </g>\n",
              " <defs>\n",
              "  <clipPath id=\"p0a22a44460\">\n",
              "   <rect x=\"76.16524\" y=\"3.00024\" width=\"280.83452\" height=\"259.51452\"/>\n",
              "  </clipPath>\n",
              " </defs>\n",
              "</svg>\n"
            ]
          },
          "metadata": {},
          "execution_count": 56
        }
      ]
    },
    {
      "cell_type": "markdown",
      "source": [
        "Attraverso il fit, abbiamo ottenuto i valori di best-fit per il parametro $a$ e per la resistenza $R$. Questi si possono vedere con:"
      ],
      "metadata": {
        "id": "UoyLOeKvPU-A"
      }
    },
    {
      "cell_type": "code",
      "source": [
        "m.values"
      ],
      "metadata": {
        "id": "L_f2O9XvPj67",
        "outputId": "e3d7e645-8b89-4a3c-b625-fc78a6c3f876",
        "colab": {
          "base_uri": "https://localhost:8080/"
        }
      },
      "execution_count": 59,
      "outputs": [
        {
          "output_type": "execute_result",
          "data": {
            "text/plain": [
              "<ValueView a=9.766319052911063e-07 R=9928.547841609721>"
            ]
          },
          "metadata": {},
          "execution_count": 59
        }
      ]
    },
    {
      "cell_type": "code",
      "source": [
        "m.errors"
      ],
      "metadata": {
        "id": "ctVrNX4hPlTj",
        "outputId": "ffeec3fa-7f36-404c-ce26-4b77e79ea2be",
        "colab": {
          "base_uri": "https://localhost:8080/"
        }
      },
      "execution_count": 60,
      "outputs": [
        {
          "output_type": "execute_result",
          "data": {
            "text/plain": [
              "<ErrorView a=9.442062208068892e-06 R=311.97419765807234>"
            ]
          },
          "metadata": {},
          "execution_count": 60
        }
      ]
    },
    {
      "cell_type": "code",
      "source": [
        "m.fval ## il chi quadrato"
      ],
      "metadata": {
        "id": "msSlTPKrRM4f",
        "outputId": "9f078839-0829-4126-e873-fc499cd6e8ce",
        "colab": {
          "base_uri": "https://localhost:8080/"
        }
      },
      "execution_count": 68,
      "outputs": [
        {
          "output_type": "execute_result",
          "data": {
            "text/plain": [
              "0.9908506668031489"
            ]
          },
          "metadata": {},
          "execution_count": 68
        }
      ]
    },
    {
      "cell_type": "code",
      "source": [
        "m.ndof ## numero di gradi di libertà"
      ],
      "metadata": {
        "id": "kZU-50vWSBbF",
        "outputId": "9ed97f15-64d3-4fca-e49b-c66b237326e9",
        "colab": {
          "base_uri": "https://localhost:8080/"
        }
      },
      "execution_count": 69,
      "outputs": [
        {
          "output_type": "execute_result",
          "data": {
            "text/plain": [
              "5.0"
            ]
          },
          "metadata": {},
          "execution_count": 69
        }
      ]
    },
    {
      "cell_type": "markdown",
      "source": [
        "Dunque, il valore di best-fit per la resistenza è $R = 9.9 \\pm 0.3\\,\\text{k}\\Omega$.\n",
        "\n",
        "Il valore vero della resistenza fornito dall'azienda che ha prodotto la resistenza è $R_\\text{true} = 10 \\,\\text{k}\\Omega$, ergo la stima da noi trovata è pienamente compatibile con il valore vero entro 1 sigma.\n",
        "\n",
        "Invece, il valore del parametro $a$ è pienamente compatibile con 0, essendo $a = \\left( 1 \\pm 9 \\right) \\times 10^{-6} \\,\\text{V}$.\n",
        "\n",
        "Invece, il $\\chi^2$ è risultato pari a $1$, mentre il numero di gradi di libertà è pari alla differenza fra il numero di punti del grafico (7) ed il numero di parametri che sono stati stimati dalla procedura di fit (2, ossia a ed R), ergo ndof = 5.\n",
        "\n",
        "Dunque, $\\chi^2/ndof=0.2$.\n",
        "Il caso ottimale è che questo valore sia prossimo ad 1.\n",
        "Il fatto che, nel nostro caso, sia un po' minore di 1 implica che le incertezze sulla corrente sono state un po' sovrastimate.\n",
        "\n",
        "Facciamo un grafico riassuntivo."
      ],
      "metadata": {
        "id": "tvWf7nLSPnZC"
      }
    },
    {
      "cell_type": "code",
      "source": [
        "fig, ax = plt.subplots(figsize = (8, 6))\n",
        "ax.errorbar(x = V, y = I, yerr = I_err, xerr = V_err, ls = \"None\", marker = \"o\", markersize = 6, label = \"Data\")\n",
        "\n",
        "x = np.linspace(np.min(V), np.max(V), 100)\n",
        "ax.plot(x, linear(x, *m.values), color = \"red\", ls = \"dashed\", label = \"Fit\")\n",
        "\n",
        "ax.text(0.07, 0.75, \"$a = (%.0e \\pm %.0e)\\,V$\\n$R = (%d \\pm %d)\\,\\Omega$\\n$\\chi^{2}/$ndof$ = %.1f/%d$\"\n",
        "        % (m.values[0], m.covariance[0, 0]**0.5, m.values[1], m.covariance[1, 1]**0.5, m.fval, m.ndof),\n",
        "        transform = ax.transAxes,\n",
        "        bbox = dict(facecolor = \"white\", edgecolor = \"white\"))\n",
        "\n",
        "ax.set_ylabel(\"Current [A]\")\n",
        "ax.set_xlabel(\"Voltage [V]\")\n",
        "ax.grid()"
      ],
      "metadata": {
        "colab": {
          "base_uri": "https://localhost:8080/",
          "height": 554
        },
        "id": "u6yj0wAYywjK",
        "outputId": "91bb66d6-d8d0-4c09-e71c-2d9f7d0b0bfb"
      },
      "execution_count": 70,
      "outputs": [
        {
          "output_type": "display_data",
          "data": {
            "text/plain": [
              "<Figure size 800x600 with 1 Axes>"
            ],
            "image/png": "[encoded data removed]"
          },
          "metadata": {}
        }
      ]
    },
    {
      "cell_type": "code",
      "source": [],
      "metadata": {
        "id": "-2OCrKfRIEHf"
      },
      "execution_count": 72,
      "outputs": []
    },
    {
      "cell_type": "code",
      "source": [
        "(m.values[0], m.covariance[0, 0]**0.5, m.values[1], m.covariance[1, 1]**0.5)"
      ],
      "metadata": {
        "colab": {
          "base_uri": "https://localhost:8080/"
        },
        "id": "CAtBjibCzN-E",
        "outputId": "ebd202f9-59d2-4cbc-a0d7-dc8fdf1c1e30"
      },
      "execution_count": null,
      "outputs": [
        {
          "output_type": "execute_result",
          "data": {
            "text/plain": [
              "(-0.059767784083112896,\n",
              " 0.001113114408520997,\n",
              " 10359.145720658096,\n",
              " 5.837042999103528)"
            ]
          },
          "metadata": {},
          "execution_count": 18
        }
      ]
    },
    {
      "cell_type": "code",
      "source": [
        "p0_vals = np.linspace(-2, 2, 50)\n",
        "p1_vals = np.linspace(1e3, 20e3, 50)\n",
        "surf = np.zeros((50, 50))\n",
        "\n",
        "#for i in range(50):\n",
        "  #for j in range(50):\n",
        "    #surf[i][]\n",
        "    #print (\"\")"
      ],
      "metadata": {
        "id": "B85Plocd2wP_"
      },
      "execution_count": null,
      "outputs": []
    }
  ]
}