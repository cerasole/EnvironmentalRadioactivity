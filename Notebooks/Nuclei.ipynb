{
  "nbformat": 4,
  "nbformat_minor": 0,
  "metadata": {
    "colab": {
      "provenance": [],
      "authorship_tag": "ABX9TyP6Jt4FAHgFxFWpaFl17JGH",
      "include_colab_link": true
    },
    "kernelspec": {
      "name": "python3",
      "display_name": "Python 3"
    },
    "language_info": {
      "name": "python"
    }
  },
  "cells": [
    {
      "cell_type": "markdown",
      "metadata": {
        "id": "view-in-github",
        "colab_type": "text"
      },
      "source": [
        "<a href=\"https://colab.research.google.com/github/cerasole/EnvironmentalRadioactivity/blob/main/Notebooks/Nuclei.ipynb\" target=\"_parent\"><img src=\"https://colab.research.google.com/assets/colab-badge.svg\" alt=\"Open In Colab\"/></a>"
      ]
    },
    {
      "cell_type": "markdown",
      "source": [
        "## Download of the dataset"
      ],
      "metadata": {
        "id": "4HEbEz9lv-Zl"
      }
    },
    {
      "cell_type": "code",
      "execution_count": 2,
      "metadata": {
        "colab": {
          "base_uri": "https://localhost:8080/"
        },
        "id": "LFlwXkINo6I9",
        "outputId": "5dfb4102-713a-4f0d-ac98-64b1ba795f24"
      },
      "outputs": [
        {
          "output_type": "stream",
          "name": "stdout",
          "text": [
            "--2024-11-30 08:40:59--  https://raw.githubusercontent.com/cerasole/EnvironmentalRadioactivity/main/Data/nndc_nudat_data_export.csv\n",
            "Resolving raw.githubusercontent.com (raw.githubusercontent.com)... 185.199.108.133, 185.199.109.133, 185.199.110.133, ...\n",
            "Connecting to raw.githubusercontent.com (raw.githubusercontent.com)|185.199.108.133|:443... connected.\n",
            "HTTP request sent, awaiting response... 200 OK\n",
            "Length: 2050406 (2.0M) [text/plain]\n",
            "Saving to: ‘nndc_nudat_data_export.csv’\n",
            "\n",
            "nndc_nudat_data_exp 100%[===================>]   1.96M  --.-KB/s    in 0.07s   \n",
            "\n",
            "2024-11-30 08:40:59 (26.6 MB/s) - ‘nndc_nudat_data_export.csv’ saved [2050406/2050406]\n",
            "\n"
          ]
        }
      ],
      "source": [
        "!wget -O nndc_nudat_data_export.csv https://raw.githubusercontent.com/cerasole/EnvironmentalRadioactivity/main/Data/nndc_nudat_data_export.csv"
      ]
    },
    {
      "cell_type": "code",
      "source": [
        "import glob\n",
        "glob.glob(\"*\")"
      ],
      "metadata": {
        "colab": {
          "base_uri": "https://localhost:8080/"
        },
        "id": "tC5ILtS46JO8",
        "outputId": "083f2b3d-fb86-4cc8-9c4d-f315e6fdf28f"
      },
      "execution_count": null,
      "outputs": [
        {
          "output_type": "execute_result",
          "data": {
            "text/plain": [
              "['nndc_nudat_data_export.csv', 'sample_data']"
            ]
          },
          "metadata": {},
          "execution_count": 106
        }
      ]
    },
    {
      "cell_type": "markdown",
      "source": [
        "### Imports"
      ],
      "metadata": {
        "id": "7umbae0o5_fD"
      }
    },
    {
      "cell_type": "code",
      "source": [
        "import numpy as np\n",
        "import pandas as pd\n",
        "import matplotlib.pyplot as plt\n",
        "plt.rc(\"font\", size = 16)          # Style options"
      ],
      "metadata": {
        "id": "V5v8lIdvr_gV"
      },
      "execution_count": 3,
      "outputs": []
    },
    {
      "cell_type": "markdown",
      "source": [
        "### Read the file"
      ],
      "metadata": {
        "id": "2bS1UxKv6TAT"
      }
    },
    {
      "cell_type": "code",
      "source": [
        "df = pd.read_csv(\"nndc_nudat_data_export.csv\")\n",
        "df"
      ],
      "metadata": {
        "id": "R_sDbiGxt-Le",
        "colab": {
          "base_uri": "https://localhost:8080/",
          "height": 443
        },
        "outputId": "8a3f5efd-9934-452c-962c-963f4a6e432c"
      },
      "execution_count": 4,
      "outputs": [
        {
          "output_type": "execute_result",
          "data": {
            "text/plain": [
              "        z    n   name levelEnergy(MeV) halflife halflifeUnit  \\\n",
              "0       0    1     1n                0    608.9            s   \n",
              "1       1    2     3H                0  12.3221            y   \n",
              "2       1    3     4H                0      3.3          MeV   \n",
              "3       1    4     5H                0      5.3          MeV   \n",
              "4       1    6     7H                0     0.18          MeV   \n",
              "...   ...  ...    ...              ...      ...          ...   \n",
              "6338  116  177  293Lv                0       95           ms   \n",
              "6339  117  176  293Ts                0       21           ms   \n",
              "6340  117  177  294Ts                0       51           ms   \n",
              "6341  118  176  294Og                0     0.58           ms   \n",
              "6342  118  176  294Og                0     0.58           ms   \n",
              "\n",
              "     halflifeUncertainty spinAndParity decayMode  branchingRatio  ...  \\\n",
              "0                    0.3          1/2+        B-           100.0  ...   \n",
              "1                 0.0106          1/2+        B-           100.0  ...   \n",
              "2                    0.3            2-         N           100.0  ...   \n",
              "3                    0.4        (1/2+)        2N           100.0  ...   \n",
              "4             +0.47-0.13          1/2+        2N             NaN  ...   \n",
              "...                  ...           ...       ...             ...  ...   \n",
              "6338              +63-27           NaN         A           100.0  ...   \n",
              "6339                +7-4           NaN         A           100.0  ...   \n",
              "6340              +38-16           NaN         A           100.0  ...   \n",
              "6341          +0.44-0.18            0+         A           100.0  ...   \n",
              "6342          +0.44-0.18            0+        SF            20.0  ...   \n",
              "\n",
              "      CFY239Pu  CFY239PuUncertainty  CFY252Cf  CFY252CfUncertainty  CFY238U  \\\n",
              "0          NaN                  NaN       NaN                  NaN      NaN   \n",
              "1          NaN                  NaN       NaN                  NaN      NaN   \n",
              "2          NaN                  NaN       NaN                  NaN      NaN   \n",
              "3          NaN                  NaN       NaN                  NaN      NaN   \n",
              "4          NaN                  NaN       NaN                  NaN      NaN   \n",
              "...        ...                  ...       ...                  ...      ...   \n",
              "6338       NaN                  NaN       NaN                  NaN      NaN   \n",
              "6339       NaN                  NaN       NaN                  NaN      NaN   \n",
              "6340       NaN                  NaN       NaN                  NaN      NaN   \n",
              "6341       NaN                  NaN       NaN                  NaN      NaN   \n",
              "6342       NaN                  NaN       NaN                  NaN      NaN   \n",
              "\n",
              "      CFY238UUncertainty  CFY241U  CFY241UUncertainty  secondTwoPlusEnergy  \\\n",
              "0                    NaN      NaN                 NaN                  NaN   \n",
              "1                    NaN      NaN                 NaN                  NaN   \n",
              "2                    NaN      NaN                 NaN                  NaN   \n",
              "3                    NaN      NaN                 NaN                  NaN   \n",
              "4                    NaN      NaN                 NaN                  NaN   \n",
              "...                  ...      ...                 ...                  ...   \n",
              "6338                 NaN      NaN                 NaN                  NaN   \n",
              "6339                 NaN      NaN                 NaN                  NaN   \n",
              "6340                 NaN      NaN                 NaN                  NaN   \n",
              "6341                 NaN      NaN                 NaN                  NaN   \n",
              "6342                 NaN      NaN                 NaN                  NaN   \n",
              "\n",
              "      secondTwoPlusEnergyUncertainty  \n",
              "0                                NaN  \n",
              "1                                NaN  \n",
              "2                                NaN  \n",
              "3                                NaN  \n",
              "4                                NaN  \n",
              "...                              ...  \n",
              "6338                             NaN  \n",
              "6339                             NaN  \n",
              "6340                             NaN  \n",
              "6341                             NaN  \n",
              "6342                             NaN  \n",
              "\n",
              "[6343 rows x 85 columns]"
            ],
            "text/html": [
              "\n",
              "  <div id=\"df-a477cdf0-daec-46e9-9917-8ff123b30e0c\" class=\"colab-df-container\">\n",
              "    <div>\n",
              "<style scoped>\n",
              "    .dataframe tbody tr th:only-of-type {\n",
              "        vertical-align: middle;\n",
              "    }\n",
              "\n",
              "    .dataframe tbody tr th {\n",
              "        vertical-align: top;\n",
              "    }\n",
              "\n",
              "    .dataframe thead th {\n",
              "        text-align: right;\n",
              "    }\n",
              "</style>\n",
              "<table border=\"1\" class=\"dataframe\">\n",
              "  <thead>\n",
              "    <tr style=\"text-align: right;\">\n",
              "      <th></th>\n",
              "      <th>z</th>\n",
              "      <th>n</th>\n",
              "      <th>name</th>\n",
              "      <th>levelEnergy(MeV)</th>\n",
              "      <th>halflife</th>\n",
              "      <th>halflifeUnit</th>\n",
              "      <th>halflifeUncertainty</th>\n",
              "      <th>spinAndParity</th>\n",
              "      <th>decayMode</th>\n",
              "      <th>branchingRatio</th>\n",
              "      <th>...</th>\n",
              "      <th>CFY239Pu</th>\n",
              "      <th>CFY239PuUncertainty</th>\n",
              "      <th>CFY252Cf</th>\n",
              "      <th>CFY252CfUncertainty</th>\n",
              "      <th>CFY238U</th>\n",
              "      <th>CFY238UUncertainty</th>\n",
              "      <th>CFY241U</th>\n",
              "      <th>CFY241UUncertainty</th>\n",
              "      <th>secondTwoPlusEnergy</th>\n",
              "      <th>secondTwoPlusEnergyUncertainty</th>\n",
              "    </tr>\n",
              "  </thead>\n",
              "  <tbody>\n",
              "    <tr>\n",
              "      <th>0</th>\n",
              "      <td>0</td>\n",
              "      <td>1</td>\n",
              "      <td>1n</td>\n",
              "      <td>0</td>\n",
              "      <td>608.9</td>\n",
              "      <td>s</td>\n",
              "      <td>0.3</td>\n",
              "      <td>1/2+</td>\n",
              "      <td>B-</td>\n",
              "      <td>100.0</td>\n",
              "      <td>...</td>\n",
              "      <td>NaN</td>\n",
              "      <td>NaN</td>\n",
              "      <td>NaN</td>\n",
              "      <td>NaN</td>\n",
              "      <td>NaN</td>\n",
              "      <td>NaN</td>\n",
              "      <td>NaN</td>\n",
              "      <td>NaN</td>\n",
              "      <td>NaN</td>\n",
              "      <td>NaN</td>\n",
              "    </tr>\n",
              "    <tr>\n",
              "      <th>1</th>\n",
              "      <td>1</td>\n",
              "      <td>2</td>\n",
              "      <td>3H</td>\n",
              "      <td>0</td>\n",
              "      <td>12.3221</td>\n",
              "      <td>y</td>\n",
              "      <td>0.0106</td>\n",
              "      <td>1/2+</td>\n",
              "      <td>B-</td>\n",
              "      <td>100.0</td>\n",
              "      <td>...</td>\n",
              "      <td>NaN</td>\n",
              "      <td>NaN</td>\n",
              "      <td>NaN</td>\n",
              "      <td>NaN</td>\n",
              "      <td>NaN</td>\n",
              "      <td>NaN</td>\n",
              "      <td>NaN</td>\n",
              "      <td>NaN</td>\n",
              "      <td>NaN</td>\n",
              "      <td>NaN</td>\n",
              "    </tr>\n",
              "    <tr>\n",
              "      <th>2</th>\n",
              "      <td>1</td>\n",
              "      <td>3</td>\n",
              "      <td>4H</td>\n",
              "      <td>0</td>\n",
              "      <td>3.3</td>\n",
              "      <td>MeV</td>\n",
              "      <td>0.3</td>\n",
              "      <td>2-</td>\n",
              "      <td>N</td>\n",
              "      <td>100.0</td>\n",
              "      <td>...</td>\n",
              "      <td>NaN</td>\n",
              "      <td>NaN</td>\n",
              "      <td>NaN</td>\n",
              "      <td>NaN</td>\n",
              "      <td>NaN</td>\n",
              "      <td>NaN</td>\n",
              "      <td>NaN</td>\n",
              "      <td>NaN</td>\n",
              "      <td>NaN</td>\n",
              "      <td>NaN</td>\n",
              "    </tr>\n",
              "    <tr>\n",
              "      <th>3</th>\n",
              "      <td>1</td>\n",
              "      <td>4</td>\n",
              "      <td>5H</td>\n",
              "      <td>0</td>\n",
              "      <td>5.3</td>\n",
              "      <td>MeV</td>\n",
              "      <td>0.4</td>\n",
              "      <td>(1/2+)</td>\n",
              "      <td>2N</td>\n",
              "      <td>100.0</td>\n",
              "      <td>...</td>\n",
              "      <td>NaN</td>\n",
              "      <td>NaN</td>\n",
              "      <td>NaN</td>\n",
              "      <td>NaN</td>\n",
              "      <td>NaN</td>\n",
              "      <td>NaN</td>\n",
              "      <td>NaN</td>\n",
              "      <td>NaN</td>\n",
              "      <td>NaN</td>\n",
              "      <td>NaN</td>\n",
              "    </tr>\n",
              "    <tr>\n",
              "      <th>4</th>\n",
              "      <td>1</td>\n",
              "      <td>6</td>\n",
              "      <td>7H</td>\n",
              "      <td>0</td>\n",
              "      <td>0.18</td>\n",
              "      <td>MeV</td>\n",
              "      <td>+0.47-0.13</td>\n",
              "      <td>1/2+</td>\n",
              "      <td>2N</td>\n",
              "      <td>NaN</td>\n",
              "      <td>...</td>\n",
              "      <td>NaN</td>\n",
              "      <td>NaN</td>\n",
              "      <td>NaN</td>\n",
              "      <td>NaN</td>\n",
              "      <td>NaN</td>\n",
              "      <td>NaN</td>\n",
              "      <td>NaN</td>\n",
              "      <td>NaN</td>\n",
              "      <td>NaN</td>\n",
              "      <td>NaN</td>\n",
              "    </tr>\n",
              "    <tr>\n",
              "      <th>...</th>\n",
              "      <td>...</td>\n",
              "      <td>...</td>\n",
              "      <td>...</td>\n",
              "      <td>...</td>\n",
              "      <td>...</td>\n",
              "      <td>...</td>\n",
              "      <td>...</td>\n",
              "      <td>...</td>\n",
              "      <td>...</td>\n",
              "      <td>...</td>\n",
              "      <td>...</td>\n",
              "      <td>...</td>\n",
              "      <td>...</td>\n",
              "      <td>...</td>\n",
              "      <td>...</td>\n",
              "      <td>...</td>\n",
              "      <td>...</td>\n",
              "      <td>...</td>\n",
              "      <td>...</td>\n",
              "      <td>...</td>\n",
              "      <td>...</td>\n",
              "    </tr>\n",
              "    <tr>\n",
              "      <th>6338</th>\n",
              "      <td>116</td>\n",
              "      <td>177</td>\n",
              "      <td>293Lv</td>\n",
              "      <td>0</td>\n",
              "      <td>95</td>\n",
              "      <td>ms</td>\n",
              "      <td>+63-27</td>\n",
              "      <td>NaN</td>\n",
              "      <td>A</td>\n",
              "      <td>100.0</td>\n",
              "      <td>...</td>\n",
              "      <td>NaN</td>\n",
              "      <td>NaN</td>\n",
              "      <td>NaN</td>\n",
              "      <td>NaN</td>\n",
              "      <td>NaN</td>\n",
              "      <td>NaN</td>\n",
              "      <td>NaN</td>\n",
              "      <td>NaN</td>\n",
              "      <td>NaN</td>\n",
              "      <td>NaN</td>\n",
              "    </tr>\n",
              "    <tr>\n",
              "      <th>6339</th>\n",
              "      <td>117</td>\n",
              "      <td>176</td>\n",
              "      <td>293Ts</td>\n",
              "      <td>0</td>\n",
              "      <td>21</td>\n",
              "      <td>ms</td>\n",
              "      <td>+7-4</td>\n",
              "      <td>NaN</td>\n",
              "      <td>A</td>\n",
              "      <td>100.0</td>\n",
              "      <td>...</td>\n",
              "      <td>NaN</td>\n",
              "      <td>NaN</td>\n",
              "      <td>NaN</td>\n",
              "      <td>NaN</td>\n",
              "      <td>NaN</td>\n",
              "      <td>NaN</td>\n",
              "      <td>NaN</td>\n",
              "      <td>NaN</td>\n",
              "      <td>NaN</td>\n",
              "      <td>NaN</td>\n",
              "    </tr>\n",
              "    <tr>\n",
              "      <th>6340</th>\n",
              "      <td>117</td>\n",
              "      <td>177</td>\n",
              "      <td>294Ts</td>\n",
              "      <td>0</td>\n",
              "      <td>51</td>\n",
              "      <td>ms</td>\n",
              "      <td>+38-16</td>\n",
              "      <td>NaN</td>\n",
              "      <td>A</td>\n",
              "      <td>100.0</td>\n",
              "      <td>...</td>\n",
              "      <td>NaN</td>\n",
              "      <td>NaN</td>\n",
              "      <td>NaN</td>\n",
              "      <td>NaN</td>\n",
              "      <td>NaN</td>\n",
              "      <td>NaN</td>\n",
              "      <td>NaN</td>\n",
              "      <td>NaN</td>\n",
              "      <td>NaN</td>\n",
              "      <td>NaN</td>\n",
              "    </tr>\n",
              "    <tr>\n",
              "      <th>6341</th>\n",
              "      <td>118</td>\n",
              "      <td>176</td>\n",
              "      <td>294Og</td>\n",
              "      <td>0</td>\n",
              "      <td>0.58</td>\n",
              "      <td>ms</td>\n",
              "      <td>+0.44-0.18</td>\n",
              "      <td>0+</td>\n",
              "      <td>A</td>\n",
              "      <td>100.0</td>\n",
              "      <td>...</td>\n",
              "      <td>NaN</td>\n",
              "      <td>NaN</td>\n",
              "      <td>NaN</td>\n",
              "      <td>NaN</td>\n",
              "      <td>NaN</td>\n",
              "      <td>NaN</td>\n",
              "      <td>NaN</td>\n",
              "      <td>NaN</td>\n",
              "      <td>NaN</td>\n",
              "      <td>NaN</td>\n",
              "    </tr>\n",
              "    <tr>\n",
              "      <th>6342</th>\n",
              "      <td>118</td>\n",
              "      <td>176</td>\n",
              "      <td>294Og</td>\n",
              "      <td>0</td>\n",
              "      <td>0.58</td>\n",
              "      <td>ms</td>\n",
              "      <td>+0.44-0.18</td>\n",
              "      <td>0+</td>\n",
              "      <td>SF</td>\n",
              "      <td>20.0</td>\n",
              "      <td>...</td>\n",
              "      <td>NaN</td>\n",
              "      <td>NaN</td>\n",
              "      <td>NaN</td>\n",
              "      <td>NaN</td>\n",
              "      <td>NaN</td>\n",
              "      <td>NaN</td>\n",
              "      <td>NaN</td>\n",
              "      <td>NaN</td>\n",
              "      <td>NaN</td>\n",
              "      <td>NaN</td>\n",
              "    </tr>\n",
              "  </tbody>\n",
              "</table>\n",
              "<p>6343 rows × 85 columns</p>\n",
              "</div>\n",
              "    <div class=\"colab-df-buttons\">\n",
              "\n",
              "  <div class=\"colab-df-container\">\n",
              "    <button class=\"colab-df-convert\" onclick=\"convertToInteractive('df-a477cdf0-daec-46e9-9917-8ff123b30e0c')\"\n",
              "            title=\"Convert this dataframe to an interactive table.\"\n",
              "            style=\"display:none;\">\n",
              "\n",
              "  <svg xmlns=\"http://www.w3.org/2000/svg\" height=\"24px\" viewBox=\"0 -960 960 960\">\n",
              "    <path d=\"M120-120v-720h720v720H120Zm60-500h600v-160H180v160Zm220 220h160v-160H400v160Zm0 220h160v-160H400v160ZM180-400h160v-160H180v160Zm440 0h160v-160H620v160ZM180-180h160v-160H180v160Zm440 0h160v-160H620v160Z\"/>\n",
              "  </svg>\n",
              "    </button>\n",
              "\n",
              "  <style>\n",
              "    .colab-df-container {\n",
              "      display:flex;\n",
              "      gap: 12px;\n",
              "    }\n",
              "\n",
              "    .colab-df-convert {\n",
              "      background-color: #E8F0FE;\n",
              "      border: none;\n",
              "      border-radius: 50%;\n",
              "      cursor: pointer;\n",
              "      display: none;\n",
              "      fill: #1967D2;\n",
              "      height: 32px;\n",
              "      padding: 0 0 0 0;\n",
              "      width: 32px;\n",
              "    }\n",
              "\n",
              "    .colab-df-convert:hover {\n",
              "      background-color: #E2EBFA;\n",
              "      box-shadow: 0px 1px 2px rgba(60, 64, 67, 0.3), 0px 1px 3px 1px rgba(60, 64, 67, 0.15);\n",
              "      fill: #174EA6;\n",
              "    }\n",
              "\n",
              "    .colab-df-buttons div {\n",
              "      margin-bottom: 4px;\n",
              "    }\n",
              "\n",
              "    [theme=dark] .colab-df-convert {\n",
              "      background-color: #3B4455;\n",
              "      fill: #D2E3FC;\n",
              "    }\n",
              "\n",
              "    [theme=dark] .colab-df-convert:hover {\n",
              "      background-color: #434B5C;\n",
              "      box-shadow: 0px 1px 3px 1px rgba(0, 0, 0, 0.15);\n",
              "      filter: drop-shadow(0px 1px 2px rgba(0, 0, 0, 0.3));\n",
              "      fill: #FFFFFF;\n",
              "    }\n",
              "  </style>\n",
              "\n",
              "    <script>\n",
              "      const buttonEl =\n",
              "        document.querySelector('#df-a477cdf0-daec-46e9-9917-8ff123b30e0c button.colab-df-convert');\n",
              "      buttonEl.style.display =\n",
              "        google.colab.kernel.accessAllowed ? 'block' : 'none';\n",
              "\n",
              "      async function convertToInteractive(key) {\n",
              "        const element = document.querySelector('#df-a477cdf0-daec-46e9-9917-8ff123b30e0c');\n",
              "        const dataTable =\n",
              "          await google.colab.kernel.invokeFunction('convertToInteractive',\n",
              "                                                    [key], {});\n",
              "        if (!dataTable) return;\n",
              "\n",
              "        const docLinkHtml = 'Like what you see? Visit the ' +\n",
              "          '<a target=\"_blank\" href=https://colab.research.google.com/notebooks/data_table.ipynb>data table notebook</a>'\n",
              "          + ' to learn more about interactive tables.';\n",
              "        element.innerHTML = '';\n",
              "        dataTable['output_type'] = 'display_data';\n",
              "        await google.colab.output.renderOutput(dataTable, element);\n",
              "        const docLink = document.createElement('div');\n",
              "        docLink.innerHTML = docLinkHtml;\n",
              "        element.appendChild(docLink);\n",
              "      }\n",
              "    </script>\n",
              "  </div>\n",
              "\n",
              "\n",
              "<div id=\"df-9d415c6f-3e7f-4f9a-9f4a-7e8076528e75\">\n",
              "  <button class=\"colab-df-quickchart\" onclick=\"quickchart('df-9d415c6f-3e7f-4f9a-9f4a-7e8076528e75')\"\n",
              "            title=\"Suggest charts\"\n",
              "            style=\"display:none;\">\n",
              "\n",
              "<svg xmlns=\"http://www.w3.org/2000/svg\" height=\"24px\"viewBox=\"0 0 24 24\"\n",
              "     width=\"24px\">\n",
              "    <g>\n",
              "        <path d=\"M19 3H5c-1.1 0-2 .9-2 2v14c0 1.1.9 2 2 2h14c1.1 0 2-.9 2-2V5c0-1.1-.9-2-2-2zM9 17H7v-7h2v7zm4 0h-2V7h2v10zm4 0h-2v-4h2v4z\"/>\n",
              "    </g>\n",
              "</svg>\n",
              "  </button>\n",
              "\n",
              "<style>\n",
              "  .colab-df-quickchart {\n",
              "      --bg-color: #E8F0FE;\n",
              "      --fill-color: #1967D2;\n",
              "      --hover-bg-color: #E2EBFA;\n",
              "      --hover-fill-color: #174EA6;\n",
              "      --disabled-fill-color: #AAA;\n",
              "      --disabled-bg-color: #DDD;\n",
              "  }\n",
              "\n",
              "  [theme=dark] .colab-df-quickchart {\n",
              "      --bg-color: #3B4455;\n",
              "      --fill-color: #D2E3FC;\n",
              "      --hover-bg-color: #434B5C;\n",
              "      --hover-fill-color: #FFFFFF;\n",
              "      --disabled-bg-color: #3B4455;\n",
              "      --disabled-fill-color: #666;\n",
              "  }\n",
              "\n",
              "  .colab-df-quickchart {\n",
              "    background-color: var(--bg-color);\n",
              "    border: none;\n",
              "    border-radius: 50%;\n",
              "    cursor: pointer;\n",
              "    display: none;\n",
              "    fill: var(--fill-color);\n",
              "    height: 32px;\n",
              "    padding: 0;\n",
              "    width: 32px;\n",
              "  }\n",
              "\n",
              "  .colab-df-quickchart:hover {\n",
              "    background-color: var(--hover-bg-color);\n",
              "    box-shadow: 0 1px 2px rgba(60, 64, 67, 0.3), 0 1px 3px 1px rgba(60, 64, 67, 0.15);\n",
              "    fill: var(--button-hover-fill-color);\n",
              "  }\n",
              "\n",
              "  .colab-df-quickchart-complete:disabled,\n",
              "  .colab-df-quickchart-complete:disabled:hover {\n",
              "    background-color: var(--disabled-bg-color);\n",
              "    fill: var(--disabled-fill-color);\n",
              "    box-shadow: none;\n",
              "  }\n",
              "\n",
              "  .colab-df-spinner {\n",
              "    border: 2px solid var(--fill-color);\n",
              "    border-color: transparent;\n",
              "    border-bottom-color: var(--fill-color);\n",
              "    animation:\n",
              "      spin 1s steps(1) infinite;\n",
              "  }\n",
              "\n",
              "  @keyframes spin {\n",
              "    0% {\n",
              "      border-color: transparent;\n",
              "      border-bottom-color: var(--fill-color);\n",
              "      border-left-color: var(--fill-color);\n",
              "    }\n",
              "    20% {\n",
              "      border-color: transparent;\n",
              "      border-left-color: var(--fill-color);\n",
              "      border-top-color: var(--fill-color);\n",
              "    }\n",
              "    30% {\n",
              "      border-color: transparent;\n",
              "      border-left-color: var(--fill-color);\n",
              "      border-top-color: var(--fill-color);\n",
              "      border-right-color: var(--fill-color);\n",
              "    }\n",
              "    40% {\n",
              "      border-color: transparent;\n",
              "      border-right-color: var(--fill-color);\n",
              "      border-top-color: var(--fill-color);\n",
              "    }\n",
              "    60% {\n",
              "      border-color: transparent;\n",
              "      border-right-color: var(--fill-color);\n",
              "    }\n",
              "    80% {\n",
              "      border-color: transparent;\n",
              "      border-right-color: var(--fill-color);\n",
              "      border-bottom-color: var(--fill-color);\n",
              "    }\n",
              "    90% {\n",
              "      border-color: transparent;\n",
              "      border-bottom-color: var(--fill-color);\n",
              "    }\n",
              "  }\n",
              "</style>\n",
              "\n",
              "  <script>\n",
              "    async function quickchart(key) {\n",
              "      const quickchartButtonEl =\n",
              "        document.querySelector('#' + key + ' button');\n",
              "      quickchartButtonEl.disabled = true;  // To prevent multiple clicks.\n",
              "      quickchartButtonEl.classList.add('colab-df-spinner');\n",
              "      try {\n",
              "        const charts = await google.colab.kernel.invokeFunction(\n",
              "            'suggestCharts', [key], {});\n",
              "      } catch (error) {\n",
              "        console.error('Error during call to suggestCharts:', error);\n",
              "      }\n",
              "      quickchartButtonEl.classList.remove('colab-df-spinner');\n",
              "      quickchartButtonEl.classList.add('colab-df-quickchart-complete');\n",
              "    }\n",
              "    (() => {\n",
              "      let quickchartButtonEl =\n",
              "        document.querySelector('#df-9d415c6f-3e7f-4f9a-9f4a-7e8076528e75 button');\n",
              "      quickchartButtonEl.style.display =\n",
              "        google.colab.kernel.accessAllowed ? 'block' : 'none';\n",
              "    })();\n",
              "  </script>\n",
              "</div>\n",
              "\n",
              "  <div id=\"id_f53ae087-011e-4d2e-b16e-0e14a6bbf920\">\n",
              "    <style>\n",
              "      .colab-df-generate {\n",
              "        background-color: #E8F0FE;\n",
              "        border: none;\n",
              "        border-radius: 50%;\n",
              "        cursor: pointer;\n",
              "        display: none;\n",
              "        fill: #1967D2;\n",
              "        height: 32px;\n",
              "        padding: 0 0 0 0;\n",
              "        width: 32px;\n",
              "      }\n",
              "\n",
              "      .colab-df-generate:hover {\n",
              "        background-color: #E2EBFA;\n",
              "        box-shadow: 0px 1px 2px rgba(60, 64, 67, 0.3), 0px 1px 3px 1px rgba(60, 64, 67, 0.15);\n",
              "        fill: #174EA6;\n",
              "      }\n",
              "\n",
              "      [theme=dark] .colab-df-generate {\n",
              "        background-color: #3B4455;\n",
              "        fill: #D2E3FC;\n",
              "      }\n",
              "\n",
              "      [theme=dark] .colab-df-generate:hover {\n",
              "        background-color: #434B5C;\n",
              "        box-shadow: 0px 1px 3px 1px rgba(0, 0, 0, 0.15);\n",
              "        filter: drop-shadow(0px 1px 2px rgba(0, 0, 0, 0.3));\n",
              "        fill: #FFFFFF;\n",
              "      }\n",
              "    </style>\n",
              "    <button class=\"colab-df-generate\" onclick=\"generateWithVariable('df')\"\n",
              "            title=\"Generate code using this dataframe.\"\n",
              "            style=\"display:none;\">\n",
              "\n",
              "  <svg xmlns=\"http://www.w3.org/2000/svg\" height=\"24px\"viewBox=\"0 0 24 24\"\n",
              "       width=\"24px\">\n",
              "    <path d=\"M7,19H8.4L18.45,9,17,7.55,7,17.6ZM5,21V16.75L18.45,3.32a2,2,0,0,1,2.83,0l1.4,1.43a1.91,1.91,0,0,1,.58,1.4,1.91,1.91,0,0,1-.58,1.4L9.25,21ZM18.45,9,17,7.55Zm-12,3A5.31,5.31,0,0,0,4.9,8.1,5.31,5.31,0,0,0,1,6.5,5.31,5.31,0,0,0,4.9,4.9,5.31,5.31,0,0,0,6.5,1,5.31,5.31,0,0,0,8.1,4.9,5.31,5.31,0,0,0,12,6.5,5.46,5.46,0,0,0,6.5,12Z\"/>\n",
              "  </svg>\n",
              "    </button>\n",
              "    <script>\n",
              "      (() => {\n",
              "      const buttonEl =\n",
              "        document.querySelector('#id_f53ae087-011e-4d2e-b16e-0e14a6bbf920 button.colab-df-generate');\n",
              "      buttonEl.style.display =\n",
              "        google.colab.kernel.accessAllowed ? 'block' : 'none';\n",
              "\n",
              "      buttonEl.onclick = () => {\n",
              "        google.colab.notebook.generateWithVariable('df');\n",
              "      }\n",
              "      })();\n",
              "    </script>\n",
              "  </div>\n",
              "\n",
              "    </div>\n",
              "  </div>\n"
            ],
            "application/vnd.google.colaboratory.intrinsic+json": {
              "type": "dataframe",
              "variable_name": "df"
            }
          },
          "metadata": {},
          "execution_count": 4
        }
      ]
    },
    {
      "cell_type": "code",
      "source": [
        "df.columns"
      ],
      "metadata": {
        "colab": {
          "base_uri": "https://localhost:8080/"
        },
        "id": "M040Dm0sOmNG",
        "outputId": "194f52aa-274f-417d-ecc7-c42666a17558"
      },
      "execution_count": 16,
      "outputs": [
        {
          "output_type": "execute_result",
          "data": {
            "text/plain": [
              "Index(['z', 'n', 'name', 'levelEnergy(MeV)', 'halflife', 'halflifeUnit',\n",
              "       'halflifeUncertainty', 'spinAndParity', 'decayMode', 'branchingRatio',\n",
              "       'branchingRatioUncertainty', 'massExcess(keV)', 'massExcessUncertainty',\n",
              "       'betaMinus', 'betaMinusUncertainty', 'electronCapture',\n",
              "       'electronCaptureUncertainty', 'positronEmission',\n",
              "       'positronEmissionUncertainty', 'neutronSeparationEnergy',\n",
              "       'neutronSeparationEnergyUncertainty', 'protonSeparationEnergy',\n",
              "       'protonSeparationEnergyUncertainty', 'alpha', 'alphaUncertainty',\n",
              "       'deltaAlpha', 'deltaAlphaUncertainty', 'twoNeutronSeparationEnergy',\n",
              "       'twoNeutronSeparationEnergyUncertainty', 'twoProtonSeparationEnergy',\n",
              "       'twoProtonSeparationEnergyUncertainty', 'doubleBetaMinus',\n",
              "       'doubleBetaMinusUncertainty', 'doubleElectronCapture',\n",
              "       'doubleElectronCaptureUncertainty', 'electronCaptureOneProtonEmission',\n",
              "       'electronCaptureOneProtonEmissionUncertainty',\n",
              "       'betaMinusOneNeutronEmission', 'betaMinusOneNeutronEmissionUncertainty',\n",
              "       'betaMinusTwoNeutronEmission', 'betaMinusTwoNeutronEmissionUncertainty',\n",
              "       'bindingEnergy', 'bindingEnergyUncertainty', 'bindingEnergyLDMFit',\n",
              "       'bindingEnergyLDMFitUncertainty', 'pairingGap', 'pairingGapUncertainty',\n",
              "       'firstExcitedStateEnergy', 'firstExcitedStateEnergyUncertainty',\n",
              "       'firstTwoPlusEnergy', 'firstTwoPlusEnergyUncertainty',\n",
              "       'firstThreeMinusEnergy', 'firstThreeMinusEnergyUncertainty',\n",
              "       'firstFourPlusEnergy', 'firstFourPlusEnergyUncertainty',\n",
              "       'firstFourPlusOverFirstTwoPlusEnergy',\n",
              "       'firstFourPlusOverFirstTwoPlusEnergyUncertainty',\n",
              "       'quadrupoleDeformation', 'quadrupoleDeformationUncertainty', 'BE4DBE2',\n",
              "       'BE4DBE2Uncertainty', 'thermalNeutronCapture', 'thermalNeutronFission',\n",
              "       'FY235U', 'FY235UUncertainty', 'FY239Pu', 'FY239PuUncertainty',\n",
              "       'FY252Cf', 'FY252CfUncertainty', 'FY238U', 'FY238UUncertainty',\n",
              "       'FY241U', 'FY241UUncertainty', 'CFY235U', 'CFY235UUncertainty',\n",
              "       'CFY239Pu', 'CFY239PuUncertainty', 'CFY252Cf', 'CFY252CfUncertainty',\n",
              "       'CFY238U', 'CFY238UUncertainty', 'CFY241U', 'CFY241UUncertainty',\n",
              "       'secondTwoPlusEnergy', 'secondTwoPlusEnergyUncertainty'],\n",
              "      dtype='object')"
            ]
          },
          "metadata": {},
          "execution_count": 16
        }
      ]
    },
    {
      "cell_type": "markdown",
      "source": [
        "### Extract the numbers of protons (Z) and neutrons (N) from the file"
      ],
      "metadata": {
        "id": "OeMvIfSl6ZD2"
      }
    },
    {
      "cell_type": "code",
      "source": [
        "Z, N = df[\"z\"].to_numpy(), df[\"n\"].to_numpy()"
      ],
      "metadata": {
        "id": "fyilx-w8u5Hd"
      },
      "execution_count": 8,
      "outputs": []
    },
    {
      "cell_type": "code",
      "source": [
        "Z, N"
      ],
      "metadata": {
        "colab": {
          "base_uri": "https://localhost:8080/"
        },
        "id": "DluYTHMI63nX",
        "outputId": "ecc4d18d-36fd-4b06-9d5e-69d016c8d4e6"
      },
      "execution_count": null,
      "outputs": [
        {
          "output_type": "execute_result",
          "data": {
            "text/plain": [
              "(array([  0,   1,   1, ..., 117, 118, 118]),\n",
              " array([  1,   2,   3, ..., 177, 176, 176]))"
            ]
          },
          "metadata": {},
          "execution_count": 110
        }
      ]
    },
    {
      "cell_type": "code",
      "source": [
        "type(Z)"
      ],
      "metadata": {
        "colab": {
          "base_uri": "https://localhost:8080/"
        },
        "id": "8DQyJ1RU68xI",
        "outputId": "f4d1833a-a51d-4858-dd75-60ec84d0d2a1"
      },
      "execution_count": null,
      "outputs": [
        {
          "output_type": "execute_result",
          "data": {
            "text/plain": [
              "numpy.ndarray"
            ]
          },
          "metadata": {},
          "execution_count": 116
        }
      ]
    },
    {
      "cell_type": "code",
      "source": [
        "n_nuclei = len(Z)\n",
        "n_nuclei"
      ],
      "metadata": {
        "id": "RUYj-XP9rIA2",
        "colab": {
          "base_uri": "https://localhost:8080/"
        },
        "outputId": "7f6633e5-c9db-4fe0-82f1-8041c5610edb"
      },
      "execution_count": null,
      "outputs": [
        {
          "output_type": "execute_result",
          "data": {
            "text/plain": [
              "6343"
            ]
          },
          "metadata": {},
          "execution_count": 8
        }
      ]
    },
    {
      "cell_type": "markdown",
      "source": [
        "### Plot of Z vs N"
      ],
      "metadata": {
        "id": "wQCA_RoT7BKz"
      }
    },
    {
      "cell_type": "code",
      "source": [
        "fig, ax = plt.subplots(figsize = (7, 5))\n",
        "ax.plot(N, Z, ls = \"None\", marker = \"o\", markersize = 2, color = \"tab:blue\")\n",
        "ax.plot([0, 130], [0, 130], ls = \"dotted\", color = \"black\")\n",
        "ax.text(80, 110, \"Z = N\", bbox = {\"facecolor\":\"white\", \"edgecolor\" : \"white\"})\n",
        "ax.set(xlabel = \"N\", ylabel = \"Z\")\n",
        "ax.set_ylabel(\"Z\")\n",
        "ax.grid()\n",
        "fig.savefig(\"Nuclei.png\")  ### Save the plot into a png file"
      ],
      "metadata": {
        "colab": {
          "base_uri": "https://localhost:8080/",
          "height": 477
        },
        "id": "IrrpcjRzuRxa",
        "outputId": "41cae62e-fc0a-48ab-be85-5a120dbf18a2"
      },
      "execution_count": null,
      "outputs": [
        {
          "output_type": "display_data",
          "data": {
            "text/plain": [
              "<Figure size 700x500 with 1 Axes>"
            ],
            "image/png": "[encoded data removed]"
          },
          "metadata": {}
        }
      ]
    },
    {
      "cell_type": "markdown",
      "source": [
        "### Plot of binding energy per nucleon vs A"
      ],
      "metadata": {
        "id": "piBJ3I43ReCL"
      }
    },
    {
      "cell_type": "code",
      "source": [
        "bindingEnergy_MeV = df[\"bindingEnergy\"].astype(\"float64\") / 1000   ### Divide by 1000 to get values in MeV\n",
        "A = Z + N\n",
        "most_bounded_nucleus = A[np.argmax(bindingEnergy_MeV)]\n",
        "\n",
        "# Plot\n",
        "fig, ax = plt.subplots(figsize = (7, 5))\n",
        "ax.plot(A, bindingEnergy_MeV, linestyle = \"None\", marker = \"o\", markersize = 2, color = \"tab:blue\", label = \"Nuclei\")\n",
        "ax.axvline(most_bounded_nucleus, linestyle = \"dashed\", color = \"tab:orange\", label = f\"A = {most_bounded_nucleus}\", linewidth = 2)\n",
        "ax.set(xlabel = \"A\", ylabel = \"Binding energy [MeV / nucleon]\")\n",
        "ax.legend()\n",
        "ax.grid()\n",
        "fig.savefig(\"BindingEnergy.png\")"
      ],
      "metadata": {
        "colab": {
          "base_uri": "https://localhost:8080/",
          "height": 477
        },
        "id": "mVpnNXx0QPwh",
        "outputId": "52b8f02d-b8fd-4d15-d8a9-e676f65a841d"
      },
      "execution_count": 25,
      "outputs": [
        {
          "output_type": "display_data",
          "data": {
            "text/plain": [
              "<Figure size 700x500 with 1 Axes>"
            ],
            "image/png": "[encoded data removed]"
          },
          "metadata": {}
        }
      ]
    }
  ]
}